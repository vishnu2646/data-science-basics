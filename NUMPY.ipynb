{
 "cells": [
  {
   "cell_type": "markdown",
   "id": "487e9728",
   "metadata": {},
   "source": [
    "## Numpy\n",
    "- Its mainly based on arrays which can handle many functions like scientific(physics), mathematical(algebra, ratios..) etc.,\n",
    "- Arrays have many dimensions,(1D- vector, 2D- Matrix, more than 2D- Tensor)\n",
    "- Why are we using numpy?\n",
    "- Has a seperate storage location and it is 50x faster than the traditional python."
   ]
  },
  {
   "cell_type": "code",
   "execution_count": 2,
   "id": "94e65906",
   "metadata": {},
   "outputs": [],
   "source": [
    "import numpy as np  # importing the numpy package"
   ]
  },
  {
   "cell_type": "code",
   "execution_count": 2,
   "id": "02e71790",
   "metadata": {},
   "outputs": [
    {
     "data": {
      "text/plain": [
       "array([], dtype=float64)"
      ]
     },
     "execution_count": 2,
     "metadata": {},
     "output_type": "execute_result"
    }
   ],
   "source": [
    "## create an empty array\n",
    "\n",
    "arr1 = np.array([])\n",
    "arr1                          #syntax for creating an empty array"
   ]
  },
  {
   "cell_type": "code",
   "execution_count": 3,
   "id": "43466158",
   "metadata": {},
   "outputs": [
    {
     "data": {
      "text/plain": [
       "array([1, 2, 3, 4, 5, 6])"
      ]
     },
     "execution_count": 3,
     "metadata": {},
     "output_type": "execute_result"
    }
   ],
   "source": [
    "arr2 = np.array([1,2,3,4,5,6])\n",
    "arr2"
   ]
  },
  {
   "cell_type": "code",
   "execution_count": 4,
   "id": "f62d0b14",
   "metadata": {},
   "outputs": [
    {
     "data": {
      "text/plain": [
       "numpy.ndarray"
      ]
     },
     "execution_count": 4,
     "metadata": {},
     "output_type": "execute_result"
    }
   ],
   "source": [
    "type(arr2)      # to find the type of the array"
   ]
  },
  {
   "cell_type": "code",
   "execution_count": 5,
   "id": "816d6e5c",
   "metadata": {},
   "outputs": [
    {
     "data": {
      "text/plain": [
       "dtype('int32')"
      ]
     },
     "execution_count": 5,
     "metadata": {},
     "output_type": "execute_result"
    }
   ],
   "source": [
    "arr2.dtype     # to find the datatype of the input value"
   ]
  },
  {
   "cell_type": "code",
   "execution_count": 6,
   "id": "2794c6aa",
   "metadata": {},
   "outputs": [
    {
     "data": {
      "text/plain": [
       "6"
      ]
     },
     "execution_count": 6,
     "metadata": {},
     "output_type": "execute_result"
    }
   ],
   "source": [
    "arr2.size    # for checking the number of values"
   ]
  },
  {
   "cell_type": "code",
   "execution_count": 7,
   "id": "9c053ea5",
   "metadata": {},
   "outputs": [
    {
     "data": {
      "text/plain": [
       "1"
      ]
     },
     "execution_count": 7,
     "metadata": {},
     "output_type": "execute_result"
    }
   ],
   "source": [
    "arr2.ndim    # for checking the dimension of the specified array"
   ]
  },
  {
   "cell_type": "code",
   "execution_count": 8,
   "id": "f3c9a6f3",
   "metadata": {},
   "outputs": [
    {
     "data": {
      "text/plain": [
       "array([[1., 2., 3.],\n",
       "       [4., 5., 6.]], dtype=float32)"
      ]
     },
     "execution_count": 8,
     "metadata": {},
     "output_type": "execute_result"
    }
   ],
   "source": [
    "arr3 = np.array([[1,2,3],[4,5,6]],dtype='float32')   # 2D array   # if you want in float values give dtype\n",
    "arr3"
   ]
  },
  {
   "cell_type": "code",
   "execution_count": 9,
   "id": "59998303",
   "metadata": {},
   "outputs": [
    {
     "data": {
      "text/plain": [
       "numpy.ndarray"
      ]
     },
     "execution_count": 9,
     "metadata": {},
     "output_type": "execute_result"
    }
   ],
   "source": [
    "type(arr3)"
   ]
  },
  {
   "cell_type": "code",
   "execution_count": 10,
   "id": "1e2957eb",
   "metadata": {},
   "outputs": [
    {
     "data": {
      "text/plain": [
       "2"
      ]
     },
     "execution_count": 10,
     "metadata": {},
     "output_type": "execute_result"
    }
   ],
   "source": [
    "arr3.ndim"
   ]
  },
  {
   "cell_type": "code",
   "execution_count": 11,
   "id": "27adeac9",
   "metadata": {},
   "outputs": [
    {
     "data": {
      "text/plain": [
       "array(['one', '2', '3', '4.5'], dtype='<U32')"
      ]
     },
     "execution_count": 11,
     "metadata": {},
     "output_type": "execute_result"
    }
   ],
   "source": [
    "arr4 = np.array(['one',2,3,4.5])\n",
    "arr4"
   ]
  },
  {
   "cell_type": "code",
   "execution_count": 12,
   "id": "e5259f61",
   "metadata": {},
   "outputs": [
    {
     "data": {
      "text/plain": [
       "(2, 3)"
      ]
     },
     "execution_count": 12,
     "metadata": {},
     "output_type": "execute_result"
    }
   ],
   "source": [
    "arr3.shape      # to check the shape "
   ]
  },
  {
   "cell_type": "code",
   "execution_count": 13,
   "id": "152a0fa0",
   "metadata": {},
   "outputs": [
    {
     "data": {
      "text/plain": [
       "array([[[ 1,  2,  3],\n",
       "        [ 4,  5,  6]],\n",
       "\n",
       "       [[ 7,  8,  9],\n",
       "        [10, 11, 12]]])"
      ]
     },
     "execution_count": 13,
     "metadata": {},
     "output_type": "execute_result"
    }
   ],
   "source": [
    "arr5 = np.array([[[1,2,3],[4,5,6]],[[7,8,9],[10,11,12]]])\n",
    "arr5"
   ]
  },
  {
   "cell_type": "code",
   "execution_count": 14,
   "id": "1159ef88",
   "metadata": {},
   "outputs": [
    {
     "data": {
      "text/plain": [
       "(2, 2, 3)"
      ]
     },
     "execution_count": 14,
     "metadata": {},
     "output_type": "execute_result"
    }
   ],
   "source": [
    "arr5.shape     #task"
   ]
  },
  {
   "cell_type": "code",
   "execution_count": 15,
   "id": "938985eb",
   "metadata": {},
   "outputs": [
    {
     "data": {
      "text/plain": [
       "array([[[10, 20],\n",
       "        [30, 40]],\n",
       "\n",
       "       [[30, 40],\n",
       "        [50, 60]]])"
      ]
     },
     "execution_count": 15,
     "metadata": {},
     "output_type": "execute_result"
    }
   ],
   "source": [
    "arr6 = np.array([[[10,20], [30, 40]], [[30, 40], [50, 60]]])\n",
    "arr6"
   ]
  },
  {
   "cell_type": "code",
   "execution_count": 16,
   "id": "656510a0-3999-41de-93fb-64695b12b712",
   "metadata": {},
   "outputs": [
    {
     "data": {
      "text/plain": [
       "(2, 2, 2)"
      ]
     },
     "execution_count": 16,
     "metadata": {},
     "output_type": "execute_result"
    }
   ],
   "source": [
    "arr6.shape"
   ]
  },
  {
   "cell_type": "markdown",
   "id": "ef154e38-22dd-451e-875b-6f6a7b4a29c3",
   "metadata": {},
   "source": [
    "## NUMPY Functions\n",
    "\n",
    "### arange\n",
    " - used to generate the numbers with specified values"
   ]
  },
  {
   "cell_type": "code",
   "execution_count": 17,
   "id": "0fabef1b-cac3-472d-8cf6-4e8f7c27f47c",
   "metadata": {},
   "outputs": [
    {
     "data": {
      "text/plain": [
       "array([0, 1, 2, 3, 4, 5, 6, 7, 8, 9])"
      ]
     },
     "execution_count": 17,
     "metadata": {},
     "output_type": "execute_result"
    }
   ],
   "source": [
    "arr7 = np.arange(10) # by default starts from 0 and end value will be as n - 1 format \n",
    "arr7"
   ]
  },
  {
   "cell_type": "code",
   "execution_count": 18,
   "id": "c44749df-74d9-40fe-bbd5-b4fa325a0de3",
   "metadata": {},
   "outputs": [
    {
     "data": {
      "text/plain": [
       "array([ 1,  2,  3,  4,  5,  6,  7,  8,  9, 10])"
      ]
     },
     "execution_count": 18,
     "metadata": {},
     "output_type": "execute_result"
    }
   ],
   "source": [
    "arr8 = np.arange(1, 11)\n",
    "arr8"
   ]
  },
  {
   "cell_type": "code",
   "execution_count": 19,
   "id": "066c20b9-8f21-4310-847b-7a2bf2ab132e",
   "metadata": {},
   "outputs": [
    {
     "data": {
      "text/plain": [
       "array([1, 3, 5, 7, 9])"
      ]
     },
     "execution_count": 19,
     "metadata": {},
     "output_type": "execute_result"
    }
   ],
   "source": [
    "arr9 = np.arange(1, 11, 2) # np.aranage(startvalue, endvalue, stepvalue)\n",
    "arr9"
   ]
  },
  {
   "cell_type": "code",
   "execution_count": 20,
   "id": "b2adaf0e-2aba-4b18-a0ef-3f1b600ad532",
   "metadata": {},
   "outputs": [
    {
     "data": {
      "text/plain": [
       "array([-20, -17, -14, -11,  -8,  -5,  -2,   1,   4])"
      ]
     },
     "execution_count": 20,
     "metadata": {},
     "output_type": "execute_result"
    }
   ],
   "source": [
    "arr10 = np.arange(-20, 6, 3)\n",
    "arr10"
   ]
  },
  {
   "cell_type": "markdown",
   "id": "284c2682-501c-4ae6-b23d-af79eded52e8",
   "metadata": {},
   "source": [
    "## reshape \n",
    " - reshaping your input to the required shape"
   ]
  },
  {
   "cell_type": "code",
   "execution_count": 21,
   "id": "7a3610dc-fab9-47e3-afd5-df87205be2ea",
   "metadata": {},
   "outputs": [
    {
     "data": {
      "text/plain": [
       "array([[[ 1,  2,  3,  4,  5],\n",
       "        [ 6,  7,  8,  9, 10]],\n",
       "\n",
       "       [[11, 12, 13, 14, 15],\n",
       "        [16, 17, 18, 19, 20]]])"
      ]
     },
     "execution_count": 21,
     "metadata": {},
     "output_type": "execute_result"
    }
   ],
   "source": [
    "arr11 = np.arange(1, 21).reshape(2,2,5) \n",
    "arr11"
   ]
  },
  {
   "cell_type": "code",
   "execution_count": 22,
   "id": "5ff6d61c-db7b-457d-9752-10e9533969d6",
   "metadata": {},
   "outputs": [
    {
     "data": {
      "text/plain": [
       "array([[ 1,  2,  3,  4,  5,  6,  7,  8,  9, 10, 11, 12, 13, 14, 15, 16,\n",
       "        17, 18, 19, 20, 21, 22, 23]])"
      ]
     },
     "execution_count": 22,
     "metadata": {},
     "output_type": "execute_result"
    }
   ],
   "source": [
    "arr12 = np.arange(1, 24).reshape(1, 23) \n",
    "arr12"
   ]
  },
  {
   "cell_type": "code",
   "execution_count": 23,
   "id": "c15eb975-7b7b-472d-bffa-b798acb3cb05",
   "metadata": {},
   "outputs": [
    {
     "data": {
      "text/plain": [
       "8"
      ]
     },
     "execution_count": 23,
     "metadata": {},
     "output_type": "execute_result"
    }
   ],
   "source": [
    "arr13 = np.array([[[25, 35], [44,55]], [[65, 75], [85, 95]]])\n",
    "arr13.size"
   ]
  },
  {
   "cell_type": "code",
   "execution_count": 24,
   "id": "62290a29-0772-43ca-bbbd-768d88446b1c",
   "metadata": {},
   "outputs": [
    {
     "data": {
      "text/plain": [
       "array([[[25, 35],\n",
       "        [44, 55]],\n",
       "\n",
       "       [[65, 75],\n",
       "        [85, 95]]])"
      ]
     },
     "execution_count": 24,
     "metadata": {},
     "output_type": "execute_result"
    }
   ],
   "source": [
    "arr13.reshape(2,2,2)\n",
    "arr13\n",
    "\n",
    "# using dtype at the end used to convert the datatype and bits\n",
    "# dtype=\"i2\" => gives output in 16 Bits\n",
    "# dtype=\"i4\" => gives output in 32 Bits\n",
    "# dtype=\"i8\" => gives output in 64 Bits"
   ]
  },
  {
   "cell_type": "markdown",
   "id": "cb3d1be3-f2f1-454b-b548-2a7da45d9992",
   "metadata": {},
   "source": [
    "## Zeros\n",
    " - used to create array with all the elements of zero."
   ]
  },
  {
   "cell_type": "code",
   "execution_count": 25,
   "id": "fbf8c38a-a1a2-400a-a6fc-2a26878f0d90",
   "metadata": {},
   "outputs": [
    {
     "data": {
      "text/plain": [
       "array([[0, 0, 0, 0, 0]], dtype=int32)"
      ]
     },
     "execution_count": 25,
     "metadata": {},
     "output_type": "execute_result"
    }
   ],
   "source": [
    "arr14 = np.zeros((1,5), dtype=\"i\") # by default the dtype will be float\n",
    "arr14"
   ]
  },
  {
   "cell_type": "code",
   "execution_count": 26,
   "id": "61fa45a1-2072-4fea-9b46-479bc0887675",
   "metadata": {},
   "outputs": [
    {
     "data": {
      "text/plain": [
       "2"
      ]
     },
     "execution_count": 26,
     "metadata": {},
     "output_type": "execute_result"
    }
   ],
   "source": [
    "arr14.ndim"
   ]
  },
  {
   "cell_type": "markdown",
   "id": "c10ffd07-f5b7-48c2-a20c-64d543c38de6",
   "metadata": {},
   "source": [
    "## Ones / all-ones matrix\n",
    " - used to generate array with one a a elements"
   ]
  },
  {
   "cell_type": "code",
   "execution_count": 27,
   "id": "7c22babe-4304-47e0-8b03-88884ec33e16",
   "metadata": {},
   "outputs": [
    {
     "data": {
      "text/plain": [
       "array([[1., 1., 1.],\n",
       "       [1., 1., 1.],\n",
       "       [1., 1., 1.]])"
      ]
     },
     "execution_count": 27,
     "metadata": {},
     "output_type": "execute_result"
    }
   ],
   "source": [
    "arr15 = np.ones((3,3))\n",
    "arr15"
   ]
  },
  {
   "cell_type": "code",
   "execution_count": 28,
   "id": "362e3f9e-568f-446b-a33a-43667b97d349",
   "metadata": {},
   "outputs": [
    {
     "data": {
      "text/plain": [
       "array([[1., 1., 1.],\n",
       "       [1., 1., 1.],\n",
       "       [1., 1., 1.]])"
      ]
     },
     "execution_count": 28,
     "metadata": {},
     "output_type": "execute_result"
    }
   ],
   "source": [
    "## To conver the datatype after creation of an array can be done by \n",
    "## .astype('')\n",
    "arra15 = arr15.astype('int')\n",
    "arr15"
   ]
  },
  {
   "cell_type": "markdown",
   "id": "9725c08a-cd97-4616-98c4-0210b6e57dcd",
   "metadata": {},
   "source": [
    "## eye function\n",
    " - used to create identity matrix with the required shape"
   ]
  },
  {
   "cell_type": "code",
   "execution_count": 29,
   "id": "27cbb50c-4742-423c-bacb-b40c03a0564f",
   "metadata": {},
   "outputs": [
    {
     "data": {
      "text/plain": [
       "array([[1., 0., 0.],\n",
       "       [0., 1., 0.],\n",
       "       [0., 0., 1.]])"
      ]
     },
     "execution_count": 29,
     "metadata": {},
     "output_type": "execute_result"
    }
   ],
   "source": [
    "arr16 = np.eye(3,3)\n",
    "arr16"
   ]
  },
  {
   "cell_type": "code",
   "execution_count": 30,
   "id": "4214e4fe-0a24-44b8-b563-eab30d9cd283",
   "metadata": {},
   "outputs": [
    {
     "data": {
      "text/plain": [
       "array([[1, 0, 0],\n",
       "       [0, 1, 0],\n",
       "       [0, 0, 1]])"
      ]
     },
     "execution_count": 30,
     "metadata": {},
     "output_type": "execute_result"
    }
   ],
   "source": [
    "arr16 = arr16.astype('int')\n",
    "arr16"
   ]
  },
  {
   "cell_type": "code",
   "execution_count": 31,
   "id": "eff2f429-e97b-4a2a-a51a-0c7cb6ef3c9a",
   "metadata": {},
   "outputs": [
    {
     "data": {
      "text/plain": [
       "array([[1, 0, 0, 0, 0, 0, 0, 0],\n",
       "       [0, 1, 0, 0, 0, 0, 0, 0],\n",
       "       [0, 0, 1, 0, 0, 0, 0, 0],\n",
       "       [0, 0, 0, 1, 0, 0, 0, 0],\n",
       "       [0, 0, 0, 0, 1, 0, 0, 0],\n",
       "       [0, 0, 0, 0, 0, 1, 0, 0],\n",
       "       [0, 0, 0, 0, 0, 0, 1, 0],\n",
       "       [0, 0, 0, 0, 0, 0, 0, 1]])"
      ]
     },
     "execution_count": 31,
     "metadata": {},
     "output_type": "execute_result"
    }
   ],
   "source": [
    "arr17 = np.eye((8), dtype=\"int\") # while using the dtype in eye only one value needs to be given. syntax -> eye(val)\n",
    "arr17"
   ]
  },
  {
   "cell_type": "code",
   "execution_count": 32,
   "id": "933cfd10-4311-439f-b86b-70ba436e278f",
   "metadata": {},
   "outputs": [
    {
     "data": {
      "text/plain": [
       "array([[1, 0, 0],\n",
       "       [0, 1, 0],\n",
       "       [0, 0, 1]], dtype=int32)"
      ]
     },
     "execution_count": 32,
     "metadata": {},
     "output_type": "execute_result"
    }
   ],
   "source": [
    "arr17 = np.identity(3, dtype=\"i\")\n",
    "arr17"
   ]
  },
  {
   "cell_type": "markdown",
   "id": "2e3ca83a-6dc1-46c2-9fcb-b60d81f84e47",
   "metadata": {},
   "source": [
    "## linespace\n",
    " - used to generate the values with equally spaced time intervals"
   ]
  },
  {
   "cell_type": "code",
   "execution_count": 4,
   "id": "39df40d5-4cb6-482d-9df2-d302876e769d",
   "metadata": {},
   "outputs": [
    {
     "data": {
      "text/plain": [
       "(array([ 0.        ,  2.85714286,  5.71428571,  8.57142857, 11.42857143,\n",
       "        14.28571429, 17.14285714, 20.        ]),\n",
       " 2.857142857142857)"
      ]
     },
     "execution_count": 4,
     "metadata": {},
     "output_type": "execute_result"
    }
   ],
   "source": [
    "arr18 = np.linspace(0, 20, 8, retstep=True)\n",
    "# arr18 = arr18.astype('int')\n",
    "arr18\n",
    "\n",
    "# '''\n",
    "#     .linespace(startvalue, endvalue, no.of values\n",
    "#     retstep -> diffrence between the values\n",
    "#     if no.of values is not given then by default the no,.of values will be 50\n",
    "# '''"
   ]
  },
  {
   "cell_type": "code",
   "execution_count": 5,
   "id": "788572cb-027f-435b-beaf-b269d27e9ac0",
   "metadata": {},
   "outputs": [
    {
     "data": {
      "text/plain": [
       "array([100.        , 102.04081633, 104.08163265, 106.12244898,\n",
       "       108.16326531, 110.20408163, 112.24489796, 114.28571429,\n",
       "       116.32653061, 118.36734694, 120.40816327, 122.44897959,\n",
       "       124.48979592, 126.53061224, 128.57142857, 130.6122449 ,\n",
       "       132.65306122, 134.69387755, 136.73469388, 138.7755102 ,\n",
       "       140.81632653, 142.85714286, 144.89795918, 146.93877551,\n",
       "       148.97959184, 151.02040816, 153.06122449, 155.10204082,\n",
       "       157.14285714, 159.18367347, 161.2244898 , 163.26530612,\n",
       "       165.30612245, 167.34693878, 169.3877551 , 171.42857143,\n",
       "       173.46938776, 175.51020408, 177.55102041, 179.59183673,\n",
       "       181.63265306, 183.67346939, 185.71428571, 187.75510204,\n",
       "       189.79591837, 191.83673469, 193.87755102, 195.91836735,\n",
       "       197.95918367, 200.        ])"
      ]
     },
     "execution_count": 5,
     "metadata": {},
     "output_type": "execute_result"
    }
   ],
   "source": [
    "arr19 = np.linspace(100, 200)\n",
    "arr19"
   ]
  },
  {
   "cell_type": "code",
   "execution_count": 35,
   "id": "a59c2c44-0238-4e85-8062-91b26d97aab5",
   "metadata": {},
   "outputs": [
    {
     "data": {
      "text/plain": [
       "50"
      ]
     },
     "execution_count": 35,
     "metadata": {},
     "output_type": "execute_result"
    }
   ],
   "source": [
    "len(arr19)"
   ]
  },
  {
   "cell_type": "markdown",
   "id": "43194d4c-00bc-4ddd-95b2-858f2688ef5a",
   "metadata": {},
   "source": [
    "## Broadcasting an arry\n",
    " - Acces each and every element in an array is know as broadcasting."
   ]
  },
  {
   "cell_type": "code",
   "execution_count": 36,
   "id": "2712c4d7-4730-4cd4-b3f3-665e0e32e6d2",
   "metadata": {},
   "outputs": [
    {
     "data": {
      "text/plain": [
       "array([[1, 1, 1, 1, 1],\n",
       "       [1, 1, 1, 1, 1],\n",
       "       [1, 1, 1, 1, 1],\n",
       "       [1, 1, 1, 1, 1],\n",
       "       [1, 1, 1, 1, 1]], dtype=int32)"
      ]
     },
     "execution_count": 36,
     "metadata": {},
     "output_type": "execute_result"
    }
   ],
   "source": [
    "arr20 = np.ones((5, 5), dtype=\"i\")\n",
    "arr20"
   ]
  },
  {
   "cell_type": "code",
   "execution_count": 37,
   "id": "da80e91d-c153-422d-a167-b4aeba976d2d",
   "metadata": {},
   "outputs": [
    {
     "data": {
      "text/plain": [
       "array([[6., 6., 6., 6., 6.],\n",
       "       [6., 6., 6., 6., 6.],\n",
       "       [6., 6., 6., 6., 6.],\n",
       "       [6., 6., 6., 6., 6.],\n",
       "       [6., 6., 6., 6., 6.]])"
      ]
     },
     "execution_count": 37,
     "metadata": {},
     "output_type": "execute_result"
    }
   ],
   "source": [
    "arr20 * 2 + 4 / 1"
   ]
  },
  {
   "cell_type": "markdown",
   "id": "1dd111b4-b272-4a87-91c6-b9b2cf256386",
   "metadata": {},
   "source": [
    "## copy function"
   ]
  },
  {
   "cell_type": "code",
   "execution_count": 38,
   "id": "98166f09-bb90-4fbc-9e2c-c50fea3ae458",
   "metadata": {},
   "outputs": [],
   "source": [
    "arr21 = np.array([1,2,3,4,5,6,7,8,9,10])\n",
    "arr22 = arr21.copy()"
   ]
  },
  {
   "cell_type": "code",
   "execution_count": 39,
   "id": "87c7e39d-1d93-49f1-af57-6e56f17b10c3",
   "metadata": {},
   "outputs": [
    {
     "data": {
      "text/plain": [
       "array([ 1,  2,  3,  4, 20, 20, 20, 20, 20, 20])"
      ]
     },
     "execution_count": 39,
     "metadata": {},
     "output_type": "execute_result"
    }
   ],
   "source": [
    "arr22[4:] = 20\n",
    "arr22"
   ]
  },
  {
   "cell_type": "code",
   "execution_count": 40,
   "id": "800e29a6-673e-4fb7-8cd9-eaa2761d122f",
   "metadata": {},
   "outputs": [
    {
     "data": {
      "text/plain": [
       "array([ 1,  2,  3,  4,  5,  6,  7,  8,  9, 10])"
      ]
     },
     "execution_count": 40,
     "metadata": {},
     "output_type": "execute_result"
    }
   ],
   "source": [
    "arr21"
   ]
  },
  {
   "cell_type": "markdown",
   "id": "409bda8c-7427-4a98-8ff9-e6d619f2d1ec",
   "metadata": {},
   "source": [
    "## Random number generation\n",
    " - used to generate a random numbers between the range of 0 to 1"
   ]
  },
  {
   "cell_type": "code",
   "execution_count": 41,
   "id": "325a0f58-39fb-489b-b8a3-1383228260b9",
   "metadata": {},
   "outputs": [
    {
     "data": {
      "text/plain": [
       "array([[0.03107922, 0.04230503],\n",
       "       [0.10527427, 0.72200106],\n",
       "       [0.36729579, 0.05586453]])"
      ]
     },
     "execution_count": 41,
     "metadata": {},
     "output_type": "execute_result"
    }
   ],
   "source": [
    "np.random.rand(3,2)"
   ]
  },
  {
   "cell_type": "markdown",
   "id": "2e2a5b37-bc27-44bd-a07a-4a823793f04a",
   "metadata": {},
   "source": [
    "### randn\n",
    " - used to generate the values with the standard normal distribution"
   ]
  },
  {
   "cell_type": "code",
   "execution_count": 42,
   "id": "5b11325d-63ab-4893-b430-0cccd2959ffb",
   "metadata": {},
   "outputs": [
    {
     "data": {
      "text/plain": [
       "array([[-1.4172268 , -0.07303063,  0.59354575,  0.75605706, -0.37367833],\n",
       "       [ 0.10757908,  0.39791732,  0.10532381,  0.48161734, -1.14224656],\n",
       "       [-0.6768989 ,  0.0154563 ,  1.20921848,  0.80798588, -0.44450089],\n",
       "       [ 1.03687649,  0.68177767,  1.58955221,  1.65211031,  0.98694526],\n",
       "       [ 0.08696462,  2.43449672,  0.78786082, -0.1339346 ,  0.5616565 ]])"
      ]
     },
     "execution_count": 42,
     "metadata": {},
     "output_type": "execute_result"
    }
   ],
   "source": [
    "arr23 = np.random.randn(5,5)\n",
    "arr23"
   ]
  },
  {
   "cell_type": "code",
   "execution_count": 43,
   "id": "6fa64fc2-afc2-46bd-a860-efc440fb8654",
   "metadata": {},
   "outputs": [
    {
     "data": {
      "text/plain": [
       "2.4344967183541786"
      ]
     },
     "execution_count": 43,
     "metadata": {},
     "output_type": "execute_result"
    }
   ],
   "source": [
    "np.max(arr23)"
   ]
  },
  {
   "cell_type": "code",
   "execution_count": 44,
   "id": "c40848d9-f1f2-4b5d-9b2a-67991eea3080",
   "metadata": {},
   "outputs": [
    {
     "data": {
      "text/plain": [
       "-1.4172268024113004"
      ]
     },
     "execution_count": 44,
     "metadata": {},
     "output_type": "execute_result"
    }
   ],
   "source": [
    "np.min(arr23)"
   ]
  },
  {
   "cell_type": "code",
   "execution_count": 45,
   "id": "3c38b431-d424-43ba-8b70-257535abd028",
   "metadata": {},
   "outputs": [
    {
     "name": "stderr",
     "output_type": "stream",
     "text": [
      "C:\\Users\\Admin\\AppData\\Local\\Temp\\ipykernel_12380\\52543507.py:2: UserWarning: \n",
      "\n",
      "`distplot` is a deprecated function and will be removed in seaborn v0.14.0.\n",
      "\n",
      "Please adapt your code to use either `displot` (a figure-level function with\n",
      "similar flexibility) or `histplot` (an axes-level function for histograms).\n",
      "\n",
      "For a guide to updating your code to use the new functions, please see\n",
      "https://gist.github.com/mwaskom/de44147ed2974457ad6372750bbe5751\n",
      "\n",
      "  sns.distplot(arr23)\n",
      "C:\\Users\\Admin\\AppData\\Roaming\\Python\\Python311\\site-packages\\seaborn\\_oldcore.py:1498: FutureWarning: is_categorical_dtype is deprecated and will be removed in a future version. Use isinstance(dtype, CategoricalDtype) instead\n",
      "  if pd.api.types.is_categorical_dtype(vector):\n",
      "C:\\Users\\Admin\\AppData\\Roaming\\Python\\Python311\\site-packages\\seaborn\\_oldcore.py:1119: FutureWarning: use_inf_as_na option is deprecated and will be removed in a future version. Convert inf values to NaN before operating instead.\n",
      "  with pd.option_context('mode.use_inf_as_na', True):\n"
     ]
    },
    {
     "data": {
      "text/plain": [
       "<Axes: ylabel='Density'>"
      ]
     },
     "execution_count": 45,
     "metadata": {},
     "output_type": "execute_result"
    },
    {
     "data": {
      "image/png": "[encoded data removed]",
      "text/plain": [
       "<Figure size 640x480 with 1 Axes>"
      ]
     },
     "metadata": {},
     "output_type": "display_data"
    }
   ],
   "source": [
    "import seaborn as sns\n",
    "sns.distplot(arr23)"
   ]
  },
  {
   "cell_type": "markdown",
   "id": "c9619864-2192-46d4-9e45-8ed9f4078a30",
   "metadata": {},
   "source": [
    "## randint\n",
    " - used to generate the random intergers with the specified range."
   ]
  },
  {
   "cell_type": "code",
   "execution_count": 46,
   "id": "56f310e0-2d03-4dbc-96f2-6773cf969ad3",
   "metadata": {},
   "outputs": [
    {
     "data": {
      "text/plain": [
       "array([4, 3, 6])"
      ]
     },
     "execution_count": 46,
     "metadata": {},
     "output_type": "execute_result"
    }
   ],
   "source": [
    "np.random.randint(1, 10, 3) # starting, ending value (n-1), no of values\n",
    "# starting will be included\n",
    "# By default if no.of.values is not given it returns only one value within the specified range."
   ]
  },
  {
   "cell_type": "markdown",
   "id": "42db403f-5bc3-4daf-ba92-38737eeecefe",
   "metadata": {},
   "source": [
    "## normal"
   ]
  },
  {
   "cell_type": "code",
   "execution_count": 47,
   "id": "a3b8e2bd-5a07-43d8-a896-7a2d33be8968",
   "metadata": {},
   "outputs": [
    {
     "data": {
      "text/plain": [
       "array([361.35667586, 562.61994167, 329.3731957 , 462.9220305 ,\n",
       "       519.8698019 , 675.873146  , 521.68504594, 238.10661781,\n",
       "       532.07885414, 423.99222079, 412.51516141, 533.93546943,\n",
       "       649.98314946, 523.04177118, 471.14826166, 403.17643341,\n",
       "       492.71825407, 279.18098998, 390.83431811, 424.85827281,\n",
       "       490.18052795, 451.47278828, 493.77787474, 575.6942752 ,\n",
       "       596.91271089, 382.25658427, 372.65678739, 537.30724346,\n",
       "       577.22841896, 377.89149487, 409.15933552, 749.35957   ,\n",
       "       500.64893713, 592.1672755 , 476.09156499, 471.3079429 ,\n",
       "       514.80158014, 410.42215169, 328.44343606, 197.19708455,\n",
       "       547.60420677, 617.05287007, 431.48430384, 472.99051525,\n",
       "       621.49298358, 515.46853081, 489.10788493, 558.64495907,\n",
       "       519.89085141, 416.76151781, 578.04541838, 447.62083748,\n",
       "       590.2210418 , 428.24637323, 581.89073697, 472.62980099,\n",
       "       436.66724054, 452.92741937, 406.45511693, 454.57620457,\n",
       "       667.38203955, 529.16263029, 640.96266897, 347.34842342,\n",
       "       573.21430644, 389.84769356, 706.78946188, 464.45194904,\n",
       "       374.79243378, 658.0484536 , 690.66255399, 462.86113595,\n",
       "       540.2865401 , 570.17848025, 409.31640125, 525.31534056,\n",
       "       353.44103394, 548.28309461, 550.45314459, 585.68526957,\n",
       "       496.43831778, 289.92898931, 604.71830411, 304.9434682 ,\n",
       "       532.11613081, 685.13955495, 302.98731261, 354.26321856,\n",
       "       379.38734201, 368.33298521, 499.01879982, 471.237294  ,\n",
       "       433.17712925, 560.9614969 , 539.67509525, 445.37180928,\n",
       "       418.02103875, 495.27584808, 444.55600913, 608.95288265])"
      ]
     },
     "execution_count": 47,
     "metadata": {},
     "output_type": "execute_result"
    }
   ],
   "source": [
    "mean = 500\n",
    "arr24 = np.random.normal(mean, 100, 100) # meanvalue, standard deviation, no.of values\n",
    "arr24"
   ]
  },
  {
   "cell_type": "code",
   "execution_count": 48,
   "id": "d25c3995-a7a6-472f-9db2-f72e34657d03",
   "metadata": {},
   "outputs": [
    {
     "name": "stdout",
     "output_type": "stream",
     "text": [
      "106.73522888342502 standard deviation 820.2056866502751 upperboundValue 179.79431334972492 lowerbound\n"
     ]
    }
   ],
   "source": [
    "stdvalue = np.std(arr24)\n",
    "upperboundValue = mean + 3 * stdvalue\n",
    "lowerbound = mean - 3 * stdvalue\n",
    "\n",
    "print(stdvalue, \"standard deviation\", upperboundValue, \"upperboundValue\", lowerbound, \"lowerbound\")"
   ]
  },
  {
   "cell_type": "code",
   "execution_count": 49,
   "id": "2ea31303-7708-40d4-ba5e-5d8f80cfc4ca",
   "metadata": {},
   "outputs": [
    {
     "data": {
      "text/plain": [
       "array([], dtype=float64)"
      ]
     },
     "execution_count": 49,
     "metadata": {},
     "output_type": "execute_result"
    }
   ],
   "source": [
    "arr24[arr24 > upperboundValue]"
   ]
  },
  {
   "cell_type": "code",
   "execution_count": 50,
   "id": "21c087ac-1bff-4894-b6df-54f940f003c3",
   "metadata": {},
   "outputs": [
    {
     "data": {
      "text/plain": [
       "array([], dtype=float64)"
      ]
     },
     "execution_count": 50,
     "metadata": {},
     "output_type": "execute_result"
    }
   ],
   "source": [
    "arr24[arr24 <  lowerbound]"
   ]
  },
  {
   "cell_type": "markdown",
   "id": "af66254f-647c-4d6b-a212-293ac1bbecb6",
   "metadata": {},
   "source": [
    "## Array attributes and methods\n",
    " - max\n",
    " - min\n",
    " - argmax\n",
    " - argmin"
   ]
  },
  {
   "cell_type": "code",
   "execution_count": 51,
   "id": "96c5df3f-228b-4c23-a8ac-e330684a8dc3",
   "metadata": {},
   "outputs": [
    {
     "data": {
      "text/plain": [
       "array([20, 34, 58,  1, 45, 68])"
      ]
     },
     "execution_count": 51,
     "metadata": {},
     "output_type": "execute_result"
    }
   ],
   "source": [
    "arr25 = np.array([20, 34, 58, 1, 45, 68])\n",
    "arr25"
   ]
  },
  {
   "cell_type": "code",
   "execution_count": 52,
   "id": "7a874e74-531d-4f35-9533-1cfdaac1827e",
   "metadata": {},
   "outputs": [
    {
     "data": {
      "text/plain": [
       "68"
      ]
     },
     "execution_count": 52,
     "metadata": {},
     "output_type": "execute_result"
    }
   ],
   "source": [
    "arr25.max()"
   ]
  },
  {
   "cell_type": "code",
   "execution_count": 53,
   "id": "f5061b5b-a19f-4e18-bafa-4899b8f69dec",
   "metadata": {},
   "outputs": [
    {
     "data": {
      "text/plain": [
       "1"
      ]
     },
     "execution_count": 53,
     "metadata": {},
     "output_type": "execute_result"
    }
   ],
   "source": [
    "arr25.min()"
   ]
  },
  {
   "cell_type": "code",
   "execution_count": 54,
   "id": "1c36559a-1ca0-4baf-a1f8-f92229c04adb",
   "metadata": {},
   "outputs": [
    {
     "data": {
      "text/plain": [
       "5"
      ]
     },
     "execution_count": 54,
     "metadata": {},
     "output_type": "execute_result"
    }
   ],
   "source": [
    "arr25.argmax() #returns the index of the maximum value \n",
    "# used in the CNN (convolution neural networks)"
   ]
  },
  {
   "cell_type": "code",
   "execution_count": 55,
   "id": "2ccc551d-c8ec-431b-a8a3-f5a8e50b0c09",
   "metadata": {},
   "outputs": [
    {
     "data": {
      "text/plain": [
       "3"
      ]
     },
     "execution_count": 55,
     "metadata": {},
     "output_type": "execute_result"
    }
   ],
   "source": [
    "arr25.argmin() #returns the index of the minimum value"
   ]
  },
  {
   "cell_type": "markdown",
   "id": "6598f377-95b9-432f-a9d4-7724bc5edc6b",
   "metadata": {},
   "source": [
    "### Array filtering \n",
    " - used to filter out the required values."
   ]
  },
  {
   "cell_type": "code",
   "execution_count": 56,
   "id": "140e8b24-d2a5-46b5-83c2-556e56371b99",
   "metadata": {},
   "outputs": [
    {
     "data": {
      "text/plain": [
       "array([ 1,  2,  3,  4,  5,  6,  7,  8,  9, 10, 11, 12, 13, 14, 15, 16, 17,\n",
       "       18, 19, 20, 21, 22, 23, 24, 25])"
      ]
     },
     "execution_count": 56,
     "metadata": {},
     "output_type": "execute_result"
    }
   ],
   "source": [
    "arr = np.arange(1, 26)\n",
    "arr"
   ]
  },
  {
   "cell_type": "code",
   "execution_count": 57,
   "id": "71a345ea-e15f-430d-a33a-8624f2314ff0",
   "metadata": {},
   "outputs": [
    {
     "data": {
      "text/plain": [
       "array([False, False, False, False, False, False, False, False, False,\n",
       "       False,  True,  True,  True,  True,  True,  True,  True,  True,\n",
       "        True,  True,  True,  True,  True,  True,  True])"
      ]
     },
     "execution_count": 57,
     "metadata": {},
     "output_type": "execute_result"
    }
   ],
   "source": [
    "arr > 10"
   ]
  },
  {
   "cell_type": "code",
   "execution_count": 59,
   "id": "ec2ecf07-c226-46e4-8cd1-60577970f454",
   "metadata": {},
   "outputs": [
    {
     "data": {
      "text/plain": [
       "array([ True,  True,  True,  True,  True,  True,  True,  True,  True,\n",
       "        True,  True,  True,  True,  True,  True,  True,  True,  True,\n",
       "        True, False, False, False, False, False, False])"
      ]
     },
     "execution_count": 59,
     "metadata": {},
     "output_type": "execute_result"
    }
   ],
   "source": [
    "arr < 20"
   ]
  },
  {
   "cell_type": "code",
   "execution_count": 61,
   "id": "ce82843d-2e7e-4cbe-9478-9912f640fcc4",
   "metadata": {},
   "outputs": [
    {
     "data": {
      "text/plain": [
       "array([13, 14, 15, 16, 17, 18, 19, 20, 21, 22, 23, 24, 25])"
      ]
     },
     "execution_count": 61,
     "metadata": {},
     "output_type": "execute_result"
    }
   ],
   "source": [
    "arr[arr > 12]"
   ]
  },
  {
   "cell_type": "code",
   "execution_count": 62,
   "id": "42212001-dfbf-466f-82ba-fdf2613e7b65",
   "metadata": {},
   "outputs": [
    {
     "data": {
      "text/plain": [
       "array([ 100,  200,  300,  400,  500,  600,  700,  800,  900, 1000])"
      ]
     },
     "execution_count": 62,
     "metadata": {},
     "output_type": "execute_result"
    }
   ],
   "source": [
    "array = np.arange(100, 1001, 100)\n",
    "array"
   ]
  },
  {
   "cell_type": "code",
   "execution_count": 63,
   "id": "07f32f15-40ea-460e-884c-94664ebe309c",
   "metadata": {},
   "outputs": [
    {
     "data": {
      "text/plain": [
       "(array([4, 5, 6, 7, 8, 9], dtype=int64),)"
      ]
     },
     "execution_count": 63,
     "metadata": {},
     "output_type": "execute_result"
    }
   ],
   "source": [
    "np.where(array > 400)"
   ]
  },
  {
   "cell_type": "markdown",
   "id": "d083091a-e1af-49b8-a75a-26cdd73090dd",
   "metadata": {},
   "source": [
    "## Array indexing and slicing"
   ]
  },
  {
   "cell_type": "code",
   "execution_count": 64,
   "id": "438d7eef-bba7-4d06-b596-32e19989a71c",
   "metadata": {},
   "outputs": [
    {
     "data": {
      "text/plain": [
       "array([ 100,  200,  300,  400,  500,  600,  700,  800,  900, 1000])"
      ]
     },
     "execution_count": 64,
     "metadata": {},
     "output_type": "execute_result"
    }
   ],
   "source": [
    "array"
   ]
  },
  {
   "cell_type": "code",
   "execution_count": 70,
   "id": "e97904cb-2f3c-45f8-938a-29fd365a3dba",
   "metadata": {},
   "outputs": [
    {
     "data": {
      "text/plain": [
       "array([600, 700, 800, 900])"
      ]
     },
     "execution_count": 70,
     "metadata": {},
     "output_type": "execute_result"
    }
   ],
   "source": [
    "array[5:9] # in one dimension array"
   ]
  },
  {
   "cell_type": "code",
   "execution_count": 76,
   "id": "aae8b5ea-2e59-4d39-aee1-753ff9b12251",
   "metadata": {},
   "outputs": [
    {
     "data": {
      "text/plain": [
       "array([[ 1,  2,  3],\n",
       "       [ 4,  5,  6],\n",
       "       [ 7,  8,  9],\n",
       "       [10, 11, 12]])"
      ]
     },
     "execution_count": 76,
     "metadata": {},
     "output_type": "execute_result"
    }
   ],
   "source": [
    "array2 = np.arange(1, 13).reshape(4, 3)\n",
    "array2"
   ]
  },
  {
   "cell_type": "code",
   "execution_count": 77,
   "id": "b4aeab33-1669-4ccf-a3cb-b023e098bdd4",
   "metadata": {},
   "outputs": [
    {
     "data": {
      "text/plain": [
       "array([11])"
      ]
     },
     "execution_count": 77,
     "metadata": {},
     "output_type": "execute_result"
    }
   ],
   "source": [
    "array2[3, [1]]"
   ]
  },
  {
   "cell_type": "code",
   "execution_count": 78,
   "id": "49c5ccd8-0d9c-4018-8686-373adbecdda5",
   "metadata": {},
   "outputs": [
    {
     "data": {
      "text/plain": [
       "array([5, 6])"
      ]
     },
     "execution_count": 78,
     "metadata": {},
     "output_type": "execute_result"
    }
   ],
   "source": [
    "array2[1, 1:3]"
   ]
  },
  {
   "cell_type": "code",
   "execution_count": 88,
   "id": "c9ecf5fd-4cbf-45ba-9b64-b3bd0ab981b5",
   "metadata": {},
   "outputs": [
    {
     "data": {
      "text/plain": [
       "array([[ 8,  9],\n",
       "       [11, 12]])"
      ]
     },
     "execution_count": 88,
     "metadata": {},
     "output_type": "execute_result"
    }
   ],
   "source": [
    "array2[2:, 1:]"
   ]
  },
  {
   "cell_type": "code",
   "execution_count": 89,
   "id": "350de58c-72b9-486c-957a-20ac71f5fd88",
   "metadata": {},
   "outputs": [
    {
     "data": {
      "text/plain": [
       "array([[1, 2],\n",
       "       [4, 5]])"
      ]
     },
     "execution_count": 89,
     "metadata": {},
     "output_type": "execute_result"
    }
   ],
   "source": [
    "array2[0:2, 0: 2]"
   ]
  },
  {
   "cell_type": "code",
   "execution_count": 3,
   "id": "765ccc5e-3f67-48ff-a552-0bda908ccad7",
   "metadata": {},
   "outputs": [
    {
     "data": {
      "text/plain": [
       "array([[[ 1,  2],\n",
       "        [ 3,  4]],\n",
       "\n",
       "       [[ 5,  6],\n",
       "        [ 7,  8]],\n",
       "\n",
       "       [[ 9, 10],\n",
       "        [11, 12]]])"
      ]
     },
     "execution_count": 3,
     "metadata": {},
     "output_type": "execute_result"
    }
   ],
   "source": [
    "array3 = np.array([[[1,2], [3,4]], [[5,6],[7,8]],[[9,10], [11,12]]])\n",
    "array3"
   ]
  },
  {
   "cell_type": "code",
   "execution_count": 94,
   "id": "a516718c-f990-4ea6-a51a-637cb758cdc2",
   "metadata": {},
   "outputs": [
    {
     "data": {
      "text/plain": [
       "8"
      ]
     },
     "execution_count": 94,
     "metadata": {},
     "output_type": "execute_result"
    }
   ],
   "source": [
    "array3[1,1,1]"
   ]
  },
  {
   "cell_type": "code",
   "execution_count": 4,
   "id": "c519e4ec-ec7e-4d6f-9939-27683bac18fc",
   "metadata": {},
   "outputs": [
    {
     "data": {
      "text/plain": [
       "10"
      ]
     },
     "execution_count": 4,
     "metadata": {},
     "output_type": "execute_result"
    }
   ],
   "source": [
    "array3[2,0,1]"
   ]
  },
  {
   "cell_type": "markdown",
   "id": "f646d441-a5b9-41fb-87b2-6ffa68470ba6",
   "metadata": {},
   "source": [
    "## Fancy indexing\n",
    " - This is possible only on the row side or column side\n",
    " - Not possible on the both side."
   ]
  },
  {
   "cell_type": "code",
   "execution_count": 11,
   "id": "53076055-70e6-4482-aa4a-be56fd7480a7",
   "metadata": {},
   "outputs": [
    {
     "data": {
      "text/plain": [
       "array([[  1,   2,   3,   4,   5,   6,   7,   8,   9,  10],\n",
       "       [ 11,  12,  13,  14,  15,  16,  17,  18,  19,  20],\n",
       "       [ 21,  22,  23,  24,  25,  26,  27,  28,  29,  30],\n",
       "       [ 31,  32,  33,  34,  35,  36,  37,  38,  39,  40],\n",
       "       [ 41,  42,  43,  44,  45,  46,  47,  48,  49,  50],\n",
       "       [ 51,  52,  53,  54,  55,  56,  57,  58,  59,  60],\n",
       "       [ 61,  62,  63,  64,  65,  66,  67,  68,  69,  70],\n",
       "       [ 71,  72,  73,  74,  75,  76,  77,  78,  79,  80],\n",
       "       [ 81,  82,  83,  84,  85,  86,  87,  88,  89,  90],\n",
       "       [ 91,  92,  93,  94,  95,  96,  97,  98,  99, 100]])"
      ]
     },
     "execution_count": 11,
     "metadata": {},
     "output_type": "execute_result"
    }
   ],
   "source": [
    "array4 = np.arange(1, 101).reshape(10, 10)\n",
    "array4"
   ]
  },
  {
   "cell_type": "code",
   "execution_count": 12,
   "id": "52fdd92f-39b4-439e-a8d0-1a08587b77b3",
   "metadata": {},
   "outputs": [
    {
     "data": {
      "text/plain": [
       "array([[42, 43, 44],\n",
       "       [32, 33, 34],\n",
       "       [82, 83, 84]])"
      ]
     },
     "execution_count": 12,
     "metadata": {},
     "output_type": "execute_result"
    }
   ],
   "source": [
    "array4[[4,3,8],1:4]"
   ]
  },
  {
   "cell_type": "code",
   "execution_count": null,
   "id": "68e83d73-11bf-4240-aa3a-27e4b964347f",
   "metadata": {},
   "outputs": [],
   "source": []
  }
 ],
 "metadata": {
  "kernelspec": {
   "display_name": "Python 3 (ipykernel)",
   "language": "python",
   "name": "python3"
  },
  "language_info": {
   "codemirror_mode": {
    "name": "ipython",
    "version": 3
   },
   "file_extension": ".py",
   "mimetype": "text/x-python",
   "name": "python",
   "nbconvert_exporter": "python",
   "pygments_lexer": "ipython3",
   "version": "3.11.0"
  }
 },
 "nbformat": 4,
 "nbformat_minor": 5
}
