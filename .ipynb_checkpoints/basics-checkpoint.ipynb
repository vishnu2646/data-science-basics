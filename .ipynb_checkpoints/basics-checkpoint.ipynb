{
 "cells": [
  {
   "cell_type": "markdown",
   "id": "d0ac6de4-757b-40d1-a416-3f9d5d8e5bbe",
   "metadata": {},
   "source": [
    "## Identifiers\n",
    "- used to difrenciate or identify the entites like functions, variables etc"
   ]
  },
  {
   "cell_type": "code",
   "execution_count": 9,
   "id": "9991c76a-89ab-4841-97c6-d06646cb16ae",
   "metadata": {},
   "outputs": [
    {
     "name": "stdout",
     "output_type": "stream",
     "text": [
      "10\n"
     ]
    }
   ],
   "source": [
    "var = 10\n",
    "print(var)"
   ]
  },
  {
   "cell_type": "code",
   "execution_count": 10,
   "id": "2387993a-f1fa-4672-831e-2b28d670ab2f",
   "metadata": {},
   "outputs": [
    {
     "name": "stdout",
     "output_type": "stream",
     "text": [
      "200\n"
     ]
    }
   ],
   "source": [
    "var_ = 200\n",
    "print(var_)"
   ]
  },
  {
   "cell_type": "code",
   "execution_count": 11,
   "id": "ab44ae25-18bf-4639-89fc-c9dace97b30c",
   "metadata": {},
   "outputs": [
    {
     "ename": "SyntaxError",
     "evalue": "invalid syntax (2038150472.py, line 1)",
     "output_type": "error",
     "traceback": [
      "\u001b[1;36m  Cell \u001b[1;32mIn[11], line 1\u001b[1;36m\u001b[0m\n\u001b[1;33m    var@ = 100\u001b[0m\n\u001b[1;37m         ^\u001b[0m\n\u001b[1;31mSyntaxError\u001b[0m\u001b[1;31m:\u001b[0m invalid syntax\n"
     ]
    }
   ],
   "source": [
    "var@ = 100\n",
    "print(var@)"
   ]
  },
  {
   "cell_type": "markdown",
   "id": "bf92831d-08d8-4c49-b09e-f0d6ad554510",
   "metadata": {},
   "source": [
    "- The variable can be a case sensitive\n",
    "- Should not contain the special characters and begin or end with numbers"
   ]
  },
  {
   "cell_type": "markdown",
   "id": "be8bbd9f-c9dc-4c1c-9e2a-f6ee76b9f1cd",
   "metadata": {},
   "source": [
    "## Comments\n",
    "- used to code more readable\n",
    "- prevent executing the code while testing"
   ]
  },
  {
   "cell_type": "code",
   "execution_count": 16,
   "id": "20f4454f-bff4-4387-9c36-8e0f22ac826f",
   "metadata": {},
   "outputs": [
    {
     "data": {
      "text/plain": [
       "'This is the data sciencen Its chennai center'"
      ]
     },
     "execution_count": 16,
     "metadata": {},
     "output_type": "execute_result"
    }
   ],
   "source": [
    "data = 'This is the data sciencen \\\n",
    "Its chennai center'\n",
    "data"
   ]
  },
  {
   "cell_type": "markdown",
   "id": "6ad13143-68e5-4b1a-b8a6-f6c6ab259862",
   "metadata": {},
   "source": [
    "## Note:\n",
    "- calling a variable simple without the print -> prints the data within the quotes\n",
    "- whereas the print -> prints exactly within the statement"
   ]
  },
  {
   "cell_type": "markdown",
   "id": "96ae40a0-8f5a-4d21-a2be-3df14974580b",
   "metadata": {},
   "source": [
    "## Variable Assignment\n",
    "- single Assignment\n",
    "- multiple Assignment"
   ]
  },
  {
   "cell_type": "code",
   "execution_count": 19,
   "id": "b70a8221-56f0-42d3-87cb-782e246d95a3",
   "metadata": {},
   "outputs": [
    {
     "name": "stdout",
     "output_type": "stream",
     "text": [
      "data sicence 10 10.2\n",
      "data sicence\n",
      "10\n",
      "10.2\n",
      "10 10 10 10\n"
     ]
    }
   ],
   "source": [
    "a = \"data sicence\"\n",
    "b = 10\n",
    "c = 10.2\n",
    "\n",
    "# prints in a single line\n",
    "print(a, b, c)\n",
    "\n",
    "# prints in multiple line\n",
    "print(a)\n",
    "print(b)\n",
    "print(c)\n",
    "\n",
    "# Assigning a single value for multiple variable\n",
    "a = b = c = d = 10\n",
    "print(a,b, c,d)\n"
   ]
  },
  {
   "cell_type": "markdown",
   "id": "4e11f576-4127-47fd-a6de-5767a8a01c16",
   "metadata": {},
   "source": [
    "## Statements\n",
    "- Anything given to the kernal is known a statements\n",
    "- It can be a single line statement"
   ]
  },
  {
   "cell_type": "code",
   "execution_count": 20,
   "id": "7b20d052-51bd-4e30-ad2f-a3c91f2e2384",
   "metadata": {},
   "outputs": [
    {
     "data": {
      "text/plain": [
       "5"
      ]
     },
     "execution_count": 20,
     "metadata": {},
     "output_type": "execute_result"
    }
   ],
   "source": [
    "3+2"
   ]
  },
  {
   "cell_type": "code",
   "execution_count": 23,
   "id": "1f333687-67b5-49af-8824-76716425da77",
   "metadata": {},
   "outputs": [
    {
     "name": "stdout",
     "output_type": "stream",
     "text": [
      "p1 90\n",
      "p2 140\n"
     ]
    }
   ],
   "source": [
    "# Single line statement\n",
    "p1 = 20+30+40\n",
    "print(\"p1\", p1)\n",
    "\n",
    "#Multiple line statement\n",
    "p2 = 20+30\\\n",
    "+40+50\n",
    "print(\"p2\", p2)"
   ]
  },
  {
   "cell_type": "markdown",
   "id": "7032843c-544a-4eb7-8507-55ed62b17713",
   "metadata": {},
   "source": [
    "## Data Types\n",
    "- Numeric DataType"
   ]
  },
  {
   "cell_type": "markdown",
   "id": "416bc1f0-73b0-4d13-b3aa-2c72f9dd7ca9",
   "metadata": {},
   "source": [
    "### Numeric datatype\n",
    "- Int -> range (-infinity to +infinity) but no decimals\n",
    "- float -> refers to decimals no maters its negative or positive\n",
    "- complex -> real and imaginary part"
   ]
  },
  {
   "cell_type": "code",
   "execution_count": 26,
   "id": "b39a4ab4-71f9-463c-9b9e-7f7b3f20dd97",
   "metadata": {},
   "outputs": [
    {
     "name": "stdout",
     "output_type": "stream",
     "text": [
      "<class 'int'>\n",
      "<class 'float'>\n",
      "<class 'complex'>\n"
     ]
    }
   ],
   "source": [
    "#integer\n",
    "l1 = 10\n",
    "\n",
    "# float\n",
    "l2 = 10.2\n",
    "\n",
    "# to check the type of variable `type()` can be used.\n",
    "print(type(l1))\n",
    "print(type(l2))\n",
    "\n",
    "# complex\n",
    "a = 3+9j\n",
    "print(type(a))"
   ]
  },
  {
   "cell_type": "code",
   "execution_count": 27,
   "id": "8514f776-05ee-440b-83f5-cc63af17b9c9",
   "metadata": {},
   "outputs": [
    {
     "name": "stdout",
     "output_type": "stream",
     "text": [
      "['False', 'None', 'True', 'and', 'as', 'assert', 'async', 'await', 'break', 'class', 'continue', 'def', 'del', 'elif', 'else', 'except', 'finally', 'for', 'from', 'global', 'if', 'import', 'in', 'is', 'lambda', 'nonlocal', 'not', 'or', 'pass', 'raise', 'return', 'try', 'while', 'with', 'yield']\n"
     ]
    }
   ],
   "source": [
    "# list of keywords\n",
    "import keyword\n",
    "print(keyword.kwlist)"
   ]
  },
  {
   "cell_type": "code",
   "execution_count": 29,
   "id": "4c1087bb-a796-45d7-bd90-800388e7dfac",
   "metadata": {},
   "outputs": [
    {
     "name": "stdout",
     "output_type": "stream",
     "text": [
      "['False', 'None', 'True', 'and', 'as', 'assert', 'async', 'await', 'break', 'class', 'continue', 'def', 'del', 'elif', 'else', 'except', 'finally', 'for', 'from', 'global', 'if', 'import', 'in', 'is', 'lambda', 'nonlocal', 'not', 'or', 'pass', 'raise', 'return', 'try', 'while', 'with', 'yield']\n"
     ]
    }
   ],
   "source": [
    "# To use only the function in the package\n",
    "from keyword import kwlist\n",
    "print(kwlist)"
   ]
  },
  {
   "cell_type": "markdown",
   "id": "6342b013-53c8-4325-af77-73d86dd25494",
   "metadata": {},
   "source": [
    "## Boolean\n",
    "- True -> holds 1\n",
    "- False -> holds 0"
   ]
  },
  {
   "cell_type": "code",
   "execution_count": 31,
   "id": "7f4ef842-bad3-4dd3-8ef9-f330e53b2476",
   "metadata": {},
   "outputs": [
    {
     "name": "stdout",
     "output_type": "stream",
     "text": [
      "False\n"
     ]
    }
   ],
   "source": [
    "print(5 < 2)"
   ]
  },
  {
   "cell_type": "code",
   "execution_count": 32,
   "id": "e3b1d41c-333f-4409-9d8a-b5c56d336860",
   "metadata": {},
   "outputs": [
    {
     "data": {
      "text/plain": [
       "-10"
      ]
     },
     "execution_count": 32,
     "metadata": {},
     "output_type": "execute_result"
    }
   ],
   "source": [
    "s1 = False - 10\n",
    "s1"
   ]
  },
  {
   "cell_type": "markdown",
   "id": "f683ba08-72c2-458b-96df-f765baa3d787",
   "metadata": {},
   "source": [
    "## Strings\n",
    "- strings are immutable and cannot be changed directly once created."
   ]
  },
  {
   "cell_type": "code",
   "execution_count": 40,
   "id": "8ade9bc1-0922-4467-8732-580699d7e7d4",
   "metadata": {},
   "outputs": [
    {
     "name": "stdout",
     "output_type": "stream",
     "text": [
      "indexing ->  m\n",
      "negative ->  i\n",
      "sliced value ->  welcome\n",
      "negative slicing welcome \n",
      "skips the 1 char wloe\n",
      "skips the 2 char wce\n",
      "skips the 3 char wo\n"
     ]
    }
   ],
   "source": [
    "s1 = 'welcome to data Scinece'\n",
    "\n",
    "# string indexing\n",
    "print(\"indexing -> \",s1[5])\n",
    "\n",
    "# negative indexing\n",
    "print(\"negative -> \",s1[-5])\n",
    "\n",
    "# slicing -> get the required string (follows n-1 method)\n",
    "print(\"sliced value -> \", s1[0:7])\n",
    "\n",
    "# sliceing in negative value\n",
    "print(\"negative slicing\", s1[-23: -15])\n",
    "\n",
    "# skiping the caharacters syntax -> var[start, end, value to skip]\n",
    "s2 = \"welcome\"\n",
    "print(\"skips the 1 char\",s2[0:7:2])\n",
    "print(\"skips the 2 char\",s2[0:7:3])\n",
    "print(\"skips the 3 char\",s2[0:7:4])\n"
   ]
  },
  {
   "cell_type": "code",
   "execution_count": 42,
   "id": "6be57793-4677-4013-bd0b-b6e46b314335",
   "metadata": {},
   "outputs": [
    {
     "ename": "TypeError",
     "evalue": "'str' object does not support item assignment",
     "output_type": "error",
     "traceback": [
      "\u001b[1;31m---------------------------------------------------------------------------\u001b[0m",
      "\u001b[1;31mTypeError\u001b[0m                                 Traceback (most recent call last)",
      "Cell \u001b[1;32mIn[42], line 3\u001b[0m\n\u001b[0;32m      1\u001b[0m \u001b[38;5;66;03m# cannot update directly\u001b[39;00m\n\u001b[0;32m      2\u001b[0m s1 \u001b[38;5;241m=\u001b[39m \u001b[38;5;124m\"\u001b[39m\u001b[38;5;124mHello Everyone\u001b[39m\u001b[38;5;124m\"\u001b[39m\n\u001b[1;32m----> 3\u001b[0m \u001b[43ms1\u001b[49m\u001b[43m[\u001b[49m\u001b[38;5;241;43m0\u001b[39;49m\u001b[43m:\u001b[49m\u001b[38;5;241;43m2\u001b[39;49m\u001b[43m]\u001b[49m \u001b[38;5;241m=\u001b[39m \u001b[38;5;124m\"\u001b[39m\u001b[38;5;124mTe\u001b[39m\u001b[38;5;124m\"\u001b[39m\n\u001b[0;32m      4\u001b[0m \u001b[38;5;28mprint\u001b[39m(s1)\n",
      "\u001b[1;31mTypeError\u001b[0m: 'str' object does not support item assignment"
     ]
    }
   ],
   "source": [
    "# cannot update directly\n",
    "s1 = \"Hello Everyone\"\n",
    "s1[0:2] = \"Te\"\n",
    "print(s1)"
   ]
  },
  {
   "cell_type": "code",
   "execution_count": 44,
   "id": "ff3e560a-f157-4ed7-9f6f-13fb596791b6",
   "metadata": {},
   "outputs": [
    {
     "data": {
      "text/plain": [
       "'Tello Everyone'"
      ]
     },
     "execution_count": 44,
     "metadata": {},
     "output_type": "execute_result"
    }
   ],
   "source": [
    "# replace is case sensitive method\n",
    "s1 = s1.replace('He','Te')\n",
    "s1"
   ]
  },
  {
   "cell_type": "code",
   "execution_count": 45,
   "id": "f6380431-4235-44b0-98b3-e69667fb143c",
   "metadata": {},
   "outputs": [
    {
     "ename": "NameError",
     "evalue": "name 's1' is not defined",
     "output_type": "error",
     "traceback": [
      "\u001b[1;31m---------------------------------------------------------------------------\u001b[0m",
      "\u001b[1;31mNameError\u001b[0m                                 Traceback (most recent call last)",
      "Cell \u001b[1;32mIn[45], line 3\u001b[0m\n\u001b[0;32m      1\u001b[0m \u001b[38;5;66;03m# deleting a string\u001b[39;00m\n\u001b[0;32m      2\u001b[0m \u001b[38;5;28;01mdel\u001b[39;00m s1\n\u001b[1;32m----> 3\u001b[0m \u001b[43ms1\u001b[49m\n",
      "\u001b[1;31mNameError\u001b[0m: name 's1' is not defined"
     ]
    }
   ],
   "source": [
    "# deleting a string\n",
    "del s1\n",
    "s1"
   ]
  },
  {
   "cell_type": "code",
   "execution_count": 46,
   "id": "35194be6-64fb-4c3f-a00c-08c8fb1daa19",
   "metadata": {},
   "outputs": [
    {
     "name": "stdout",
     "output_type": "stream",
     "text": [
      "HelloWorld\n",
      "Hello World\n",
      "('Hello', 'World')\n"
     ]
    }
   ],
   "source": [
    "# string concatenation\n",
    "'''  Merging the multiple strings using (+) '''\n",
    "str1 = \"Hello\"\n",
    "str2 = \"World\"\n",
    "print(str1+str2)\n",
    "print(str1,str2)\n",
    "str3 = str1,str2\n",
    "print(str3)"
   ]
  },
  {
   "cell_type": "code",
   "execution_count": 49,
   "id": "302679c0-b174-419e-bf8f-a6d91cc1d196",
   "metadata": {},
   "outputs": [
    {
     "data": {
      "text/plain": [
       "True"
      ]
     },
     "execution_count": 49,
     "metadata": {},
     "output_type": "execute_result"
    }
   ],
   "source": [
    "# membership operator `in` also a case sensitive\n",
    "s2 = \"Data science class started\"\n",
    "'science' in s2"
   ]
  },
  {
   "cell_type": "code",
   "execution_count": 50,
   "id": "74536646-5c83-4a43-bee6-e81b0ca0d6f5",
   "metadata": {},
   "outputs": [
    {
     "data": {
      "text/plain": [
       "('one', ',', 'two,three')"
      ]
     },
     "execution_count": 50,
     "metadata": {},
     "output_type": "execute_result"
    }
   ],
   "source": [
    "# string partitioning -> split the strings to subStrings\n",
    "s4 = \"one,two,three\"\n",
    "s4.partition(\",\")"
   ]
  },
  {
   "cell_type": "code",
   "execution_count": 67,
   "id": "1a2b309f-69f5-43ed-a7e0-094358bc3039",
   "metadata": {},
   "outputs": [
    {
     "name": "stdout",
     "output_type": "stream",
     "text": [
      "Hello\n",
      "Hello \n",
      " Hello\n",
      " HELLO \n",
      " hello \n",
      "True\n",
      "False\n",
      "['Hell', ' w', 'rld Hell', '']\n"
     ]
    }
   ],
   "source": [
    "# string functions\n",
    "\n",
    "# count()\n",
    "s2 = \"Hello world Hello\"\n",
    "s2.count(\"o\")\n",
    "\n",
    "# strip() -> removes the spaces at start and end of a string\n",
    "s5 = \" Hello \"\n",
    "print(s5.strip())\n",
    "\n",
    "# lstrip() -> removes left space of the string\n",
    "print(s5.lstrip())\n",
    "\n",
    "# rstrip() -> removes right space of the string\n",
    "print(s5.rstrip())\n",
    "\n",
    "# Upper case\n",
    "print(s5.upper())\n",
    "\n",
    "# Lower case\n",
    "print(s5.lower())\n",
    "\n",
    "# startswith -> check weather the strings is started with the specified value\n",
    "print(s5.startswith(' H'))\n",
    "\n",
    "# endswith -> check weather the strings is ended with the specified value\n",
    "print(s5.endswith('da'))\n",
    "\n",
    "# split -> will not show the seperator value and displays the sepetaed value as a list. -> default splits by the white space\n",
    "print(s2.split(\"o\"))"
   ]
  },
  {
   "cell_type": "code",
   "execution_count": 81,
   "id": "137161cc-bf0c-4f9d-89f5-d79ea9f3caa1",
   "metadata": {},
   "outputs": [
    {
     "data": {
      "text/plain": [
       "['Data science ', ' Data Analyst ', ' Data Engineer']"
      ]
     },
     "execution_count": 81,
     "metadata": {},
     "output_type": "execute_result"
    }
   ],
   "source": [
    "data = \"Data science and Data Analyst and Data Engineer is Avalible\"\n",
    "data = data.split('and')\n",
    "data.append(d[2].replace(\" is Avalible\", \"\"))\n",
    "data.pop(2)\n",
    "data"
   ]
  },
  {
   "cell_type": "code",
   "execution_count": 86,
   "id": "c6161543-f76c-48c8-8a6f-b810b12c662a",
   "metadata": {},
   "outputs": [
    {
     "name": "stdin",
     "output_type": "stream",
     "text": [
      "enter 10\n",
      "enter:  10\n"
     ]
    },
    {
     "name": "stdout",
     "output_type": "stream",
     "text": [
      "Added value is 20\n"
     ]
    }
   ],
   "source": [
    "a = int(input(\"enter\"))\n",
    "b = int(input(\"enter: \"))\n",
    "add = a+b\n",
    "print(\"Added value is {}\".format(add))"
   ]
  },
  {
   "cell_type": "markdown",
   "id": "165c63ab-d936-4a4e-9217-020603fa6d25",
   "metadata": {},
   "source": [
    "## Typecasting\n",
    "- Auto typecasting\n",
    "- force typecasting"
   ]
  },
  {
   "cell_type": "code",
   "execution_count": 87,
   "id": "9a8fe175-ec91-45f3-9cde-26db50c5280e",
   "metadata": {},
   "outputs": [
    {
     "data": {
      "text/plain": [
       "41.3"
      ]
     },
     "execution_count": 87,
     "metadata": {},
     "output_type": "execute_result"
    }
   ],
   "source": [
    "# Auto typecasting -> float has the heigh ranking\n",
    "c = 10+10.3+True+20+False\n",
    "c"
   ]
  },
  {
   "cell_type": "code",
   "execution_count": 89,
   "id": "aed5f657-33cd-4580-8f2c-ae5adefd389c",
   "metadata": {},
   "outputs": [
    {
     "name": "stdout",
     "output_type": "stream",
     "text": [
      "10.0\n",
      "50\n"
     ]
    }
   ],
   "source": [
    "# force typecasting\n",
    "a = 10\n",
    "\n",
    "print(float(a))\n",
    "print(int(50.42))\n"
   ]
  },
  {
   "cell_type": "markdown",
   "id": "f843a74d-3adf-4515-a6d3-0fb1ea8aacb7",
   "metadata": {},
   "source": [
    "## Operators\n",
    " - used to perform the operations like Addition, subraction, Multiplication etc.."
   ]
  },
  {
   "cell_type": "code",
   "execution_count": 1,
   "id": "b6a22467-beb9-424a-8823-4686304076bf",
   "metadata": {},
   "outputs": [
    {
     "name": "stdout",
     "output_type": "stream",
     "text": [
      "Add 30\n",
      "sub -10\n",
      "Mul 200\n",
      "divi 0.5\n",
      "floor-division 0\n",
      "modules 10\n"
     ]
    }
   ],
   "source": [
    "## Addition\n",
    "a = 10\n",
    "b = 20\n",
    "print(\"Add\",a+b)\n",
    "\n",
    "## Subraction\n",
    "print(\"sub\",a-b)\n",
    "\n",
    "## Multiplication\n",
    "print(\"Mul\",a*b)\n",
    "\n",
    "## division\n",
    "print(\"divi\",a / b)\n",
    "\n",
    "## floor division --> rounds up to least value\n",
    "print(\"floor-division\",a // b)\n",
    "\n",
    "## Modules --> gives the remainder value\n",
    "print(\"modules\",a % b)"
   ]
  },
  {
   "cell_type": "markdown",
   "id": "bae0703d-d121-4a31-b598-6eed0d5466c4",
   "metadata": {},
   "source": [
    "## Comparision operator\n",
    " - equalto, notEqual, greaterthan, lesserthan, greaterthanorEqual, lesserthanorEqual, notEqual\n",
    " - This can Expect Boolean Answers"
   ]
  },
  {
   "cell_type": "code",
   "execution_count": 2,
   "id": "4232b4c4-4ed9-441e-bd58-b17c963d1883",
   "metadata": {},
   "outputs": [
    {
     "name": "stdout",
     "output_type": "stream",
     "text": [
      "greatethan False\n",
      "lesserthan True\n",
      "equalto False\n",
      "notEqual True\n",
      "lessthanorEqual True\n",
      "greatethanorEqual False\n"
     ]
    }
   ],
   "source": [
    "c = 10\n",
    "d = 10.3\n",
    "\n",
    "# greaterthan\n",
    "print(\"greatethan\",c > d)\n",
    "\n",
    "# lesserthan\n",
    "print(\"lesserthan\",c < d)\n",
    "\n",
    "# equalto\n",
    "print(\"equalto\",c == d)\n",
    "\n",
    "# notEqual\n",
    "print(\"notEqual\",c != d)\n",
    "\n",
    "# lessthanorEqual\n",
    "print(\"lessthanorEqual\",c <= d)\n",
    "\n",
    "# greatethanorEqual\n",
    "print(\"greatethanorEqual\",c >= d)"
   ]
  },
  {
   "cell_type": "markdown",
   "id": "de4ac1e9-995b-4712-94df-ea03e14ccf8d",
   "metadata": {},
   "source": [
    "## Logical Operators\n",
    "    - And, Or, Not"
   ]
  },
  {
   "cell_type": "code",
   "execution_count": 4,
   "id": "b5ef8935-2a74-4798-926e-d984abe6da7d",
   "metadata": {},
   "outputs": [
    {
     "name": "stdout",
     "output_type": "stream",
     "text": [
      "And False\n",
      "Or True\n",
      "Not True\n"
     ]
    }
   ],
   "source": [
    "x = True\n",
    "y = False\n",
    "\n",
    "# And\n",
    "print(\"And\", x and y)\n",
    "\n",
    "# Or\n",
    "print(\"Or\", x or y)\n",
    "\n",
    "# Not\n",
    "print(\"Not\", not(x and y))"
   ]
  },
  {
   "cell_type": "markdown",
   "id": "33334c7e-9daa-4d17-a89e-f711de27eacd",
   "metadata": {},
   "source": [
    "## Membership Operator\n",
    " - in, not in"
   ]
  },
  {
   "cell_type": "code",
   "execution_count": 5,
   "id": "149d35a2-8e9f-4af9-be7a-6133e29c676c",
   "metadata": {},
   "outputs": [
    {
     "name": "stdout",
     "output_type": "stream",
     "text": [
      "in operator True\n",
      "not in operator True\n"
     ]
    }
   ],
   "source": [
    "python = \"Hello world\"\n",
    "\n",
    "## in\n",
    "print(\"in operator\", 'He' in python)\n",
    "\n",
    "## not in\n",
    "print(\"not in operator\", '2o' not in python)"
   ]
  },
  {
   "cell_type": "markdown",
   "id": "14d3e80d-e837-4fe7-81b2-0ec63c4a70e2",
   "metadata": {},
   "source": [
    "## Conditional statemenst\n",
    " - if the given condition is true then the if block code will be executed or else block will be executed.\n",
    " - by default there occurs a indentation after the next line of the condition.\n",
    " - if, elif, switch, nested-if"
   ]
  },
  {
   "cell_type": "code",
   "execution_count": 7,
   "id": "6399aba7-e67c-49a6-a4ca-6167eb069047",
   "metadata": {},
   "outputs": [
    {
     "name": "stdout",
     "output_type": "stream",
     "text": [
      "if block executed\n"
     ]
    }
   ],
   "source": [
    "# if condition\n",
    "if c == 10:\n",
    "    print(\"if block executed\")\n",
    "else:\n",
    "    print(\"else block excurted\")\n"
   ]
  },
  {
   "cell_type": "code",
   "execution_count": 13,
   "id": "99b43412-dc46-4046-9acf-9ad4266ae27f",
   "metadata": {},
   "outputs": [
    {
     "name": "stdin",
     "output_type": "stream",
     "text": [
      "Enter age  1\n"
     ]
    },
    {
     "name": "stdout",
     "output_type": "stream",
     "text": [
      "babby\n"
     ]
    }
   ],
   "source": [
    "# elif\n",
    "age = int(input(\"Enter age \"))\n",
    "if age <= 3:\n",
    "    print(\"babby\")\n",
    "elif age >= 10 and age < 20:\n",
    "    print(\"teen\")\n",
    "elif age >= 20 and age <= 40:\n",
    "    print(\"Adult\")\n",
    "else:\n",
    "    print(\"aged\")"
   ]
  },
  {
   "cell_type": "code",
   "execution_count": 23,
   "id": "c6dfadd5-3d5a-4a2f-98ea-5f8e6198a173",
   "metadata": {},
   "outputs": [
    {
     "name": "stdin",
     "output_type": "stream",
     "text": [
      "Enter age  15\n"
     ]
    },
    {
     "name": "stdout",
     "output_type": "stream",
     "text": [
      "teen\n",
      "Adult\n"
     ]
    }
   ],
   "source": [
    "## nested if -> A if contains another if\n",
    "age = int(input(\"Enter age \"))\n",
    "if age >= 3:\n",
    "    if age >= 10 and age <= 20:\n",
    "        print(\"teen\")\n",
    "        if age <= 40:\n",
    "            print(\"Adult\")\n",
    "    else:\n",
    "        print(\"boy\")\n",
    "else:\n",
    "    print(\"aged\")"
   ]
  },
  {
   "cell_type": "markdown",
   "id": "9e74a245-8cec-4f04-9d0f-eed2faeaca49",
   "metadata": {},
   "source": [
    "## DateTime Package"
   ]
  },
  {
   "cell_type": "code",
   "execution_count": 27,
   "id": "8c8cd284-69b7-4d9a-8046-ef91f49528ae",
   "metadata": {},
   "outputs": [
    {
     "name": "stdout",
     "output_type": "stream",
     "text": [
      "current date 2023-08-27\n"
     ]
    }
   ],
   "source": [
    "# datetime package\n",
    "from datetime import date\n",
    "\n",
    "## current date format wiil be as yyyy-mm-dd\n",
    "print(\"current date\",date.today())"
   ]
  },
  {
   "cell_type": "code",
   "execution_count": 32,
   "id": "06e60936-c0e3-4711-8509-6b2bdbac6e2f",
   "metadata": {},
   "outputs": [
    {
     "name": "stdout",
     "output_type": "stream",
     "text": [
      "current year 2023\n",
      "current month 8\n",
      "current date 27\n"
     ]
    }
   ],
   "source": [
    "today_date = date.today()\n",
    "\n",
    "# only year\n",
    "print(\"current year\",today_date.year)\n",
    "\n",
    "# only month\n",
    "print(\"current month\",today_date.month)\n",
    "\n",
    "# only date\n",
    "print(\"current date\",today_date.day)"
   ]
  },
  {
   "cell_type": "code",
   "execution_count": 34,
   "id": "852dd638-a71d-4b03-a69e-359dae625488",
   "metadata": {},
   "outputs": [
    {
     "name": "stdout",
     "output_type": "stream",
     "text": [
      "2023-08-27\n"
     ]
    }
   ],
   "source": [
    "# new date by user\n",
    "new_date = date(2023,8,27)\n",
    "print(new_date)"
   ]
  },
  {
   "cell_type": "code",
   "execution_count": 35,
   "id": "3c2a2e7f-447f-4b3a-bc31-4a902a16edc6",
   "metadata": {},
   "outputs": [
    {
     "data": {
      "text/plain": [
       "7"
      ]
     },
     "execution_count": 35,
     "metadata": {},
     "output_type": "execute_result"
    }
   ],
   "source": [
    "today_date.isoweekday() # --> used to check the weekday"
   ]
  },
  {
   "cell_type": "code",
   "execution_count": 36,
   "id": "87dd0560-61a1-44f8-9a06-738fadff0611",
   "metadata": {},
   "outputs": [
    {
     "data": {
      "text/plain": [
       "datetime.IsoCalendarDate(year=2023, week=34, weekday=7)"
      ]
     },
     "execution_count": 36,
     "metadata": {},
     "output_type": "execute_result"
    }
   ],
   "source": [
    "today_date.isocalendar() # --> returns a year, week and weekday"
   ]
  },
  {
   "cell_type": "code",
   "execution_count": 46,
   "id": "3e82e0bc-34a9-4951-a0d1-ec52be6fe674",
   "metadata": {},
   "outputs": [
    {
     "name": "stdout",
     "output_type": "stream",
     "text": [
      "prints the date and time 2023-08-27 11:15:43.309838\n"
     ]
    }
   ],
   "source": [
    "# datetime module in datetime package\n",
    "from datetime import datetime\n",
    "\n",
    "date = datetime.now()\n",
    "print(\"prints the date and time\",date)"
   ]
  },
  {
   "cell_type": "code",
   "execution_count": 47,
   "id": "6f09a1c6-5003-490c-9ab3-999f9aacc6eb",
   "metadata": {},
   "outputs": [
    {
     "name": "stdout",
     "output_type": "stream",
     "text": [
      "prints only the date 2023-08-27\n"
     ]
    }
   ],
   "source": [
    "print(\"prints only the date\",datetime.date(date))"
   ]
  },
  {
   "cell_type": "code",
   "execution_count": 48,
   "id": "e5175482-8688-4f2b-85d7-5ac555ce6606",
   "metadata": {},
   "outputs": [
    {
     "name": "stdout",
     "output_type": "stream",
     "text": [
      "To print only time 11:15:43.309838\n"
     ]
    }
   ],
   "source": [
    "print(\"To print only time\", datetime.time(date))"
   ]
  },
  {
   "cell_type": "code",
   "execution_count": 55,
   "id": "cdab5851-8932-4c69-9d85-ed451d0acca0",
   "metadata": {},
   "outputs": [
    {
     "name": "stdout",
     "output_type": "stream",
     "text": [
      "date after 100 date 2023-12-05\n",
      "date before 100 date 2022-04-14\n"
     ]
    }
   ],
   "source": [
    "# timedelta -> to check the future date or past date\n",
    "from datetime import timedelta\n",
    "\n",
    "current_date = datetime.now()\n",
    "date_after_100_days = current_date + timedelta(days=100)\n",
    "\n",
    "print(\"date after 100 date\", datetime.date(date_after_100_days))\n",
    "\n",
    "date_before_100_days = current_date + timedelta(days=-500)\n",
    "print(\"date before 100 date\", datetime.date(date_before_100_days))"
   ]
  },
  {
   "cell_type": "code",
   "execution_count": 72,
   "id": "42ffebe2-82da-4b81-a22d-b089662ba8d2",
   "metadata": {},
   "outputs": [
    {
     "name": "stdout",
     "output_type": "stream",
     "text": [
      "prints current second 29\n",
      "prints current date 27/08/2023, 00:00:00.000000\n",
      "prints current date 27/08/2023, 12:04:29.857180\n"
     ]
    }
   ],
   "source": [
    "# --> returns the current second\n",
    "print(\"prints current second\",datetime.now().second)\n",
    "\n",
    "# --> returns current date and format to required type\n",
    "print(\"prints current date\",datetime.now().date().strftime(\"%d/%m/%Y, %H:%M:%S.%f\")) \n",
    "\n",
    "# --> returns current datetime and format to required type\n",
    "print(\"prints current date\",datetime.now().strftime(\"%d/%m/%Y, %H:%M:%S.%f\")) "
   ]
  },
  {
   "cell_type": "markdown",
   "id": "e2cc731d-d6fb-49b1-989c-380c1d51a5f3",
   "metadata": {},
   "source": [
    "## List\n",
    " - stores sequence of characters of any data type\n",
    " - List are ordered, changable, and allow dupicates\n",
    " - Anything within the square brackets in known as list"
   ]
  },
  {
   "cell_type": "code",
   "execution_count": 117,
   "id": "994e41d9-f60a-4ca0-a9aa-22962cd1e58f",
   "metadata": {},
   "outputs": [
    {
     "name": "stdout",
     "output_type": "stream",
     "text": [
      "<class 'list'>\n",
      "indexing 4\n",
      "Negative indexing 4\n",
      "slicing [2, 3]\n",
      "slicing in nested lst [[4, 5]]\n",
      "Negative slicing [3, 4, 5]\n",
      "reversing [6, 5, 4, 3, 2, 1]\n",
      "Ascending [1, 2, 3, 4, 5, 6]\n",
      "Descending [1, 2, 3, 4, 5, 6]\n",
      "Adding in lst [1, 2, 3, 4, 5, 6]\n",
      "inserted item in list [1, 2, False, 3, 4, 5, 6]\n",
      "Removing in a list [1, 2, 3, 4, 5, 6]\n",
      "Removing in a list [1, 2, 3, 4, 5]\n",
      "concated list [1, 2, 3, 4, 5, 1, 3, True, 'Data']\n",
      "deleting in nested_lst [1, 2, 3]\n",
      "None\n"
     ]
    }
   ],
   "source": [
    "lst = [1,2,3,4,5,6]\n",
    "lst2 = [1,2,3, True, \"Data\"]\n",
    "\n",
    "# check type\n",
    "print(type(lst))\n",
    "\n",
    "# Nested List\n",
    "nested_lst = [1,2,3,[4,5]]\n",
    "\n",
    "# indexing\n",
    "print(\"indexing\",lst[3])\n",
    "print(\"Negative indexing\", lst[-3])\n",
    "\n",
    "# slicing\n",
    "print(\"slicing\", lst[1:3])\n",
    "print(\"slicing in nested lst\", nested_lst[3:])\n",
    "print(\"Negative slicing\", lst[-4: -1])\n",
    "\n",
    "# reversing the list\n",
    "print(\"reversing\",lst[::-1])\n",
    "\n",
    "# sort list in Asscending\n",
    "lst.sort()\n",
    "print(\"Ascending\",lst)\n",
    "\n",
    "# sort list in Descending\n",
    "#lst.sort(reverse=True)\n",
    "print(\"Descending\",lst)\n",
    "\n",
    "# Adding, Remove and Change items in list\n",
    "\n",
    "# append used to add a item at the end of the list\n",
    "# --> cannot add multiple elemnts in the list\n",
    "#lst.append(False)\n",
    "print(\"Adding in lst\", lst)\n",
    "\n",
    "# insert --> used to append item in specifed place\n",
    "lst.insert(2, False)\n",
    "print(\"inserted item in list\", lst)\n",
    "\n",
    "# pop used to remove the item in list\n",
    "\n",
    "# poping using index value\n",
    "lst.pop(lst2.pop(lst2[3]))\n",
    "print(\"Removing in a list\", lst)\n",
    "\n",
    "# by default pops the last element in the list\n",
    "lst.pop()\n",
    "print(\"Removing in a list\", lst)\n",
    "\n",
    "# + --> concatination of the two lists\n",
    "\n",
    "# join the lst using +\n",
    "lst3 = lst + lst2\n",
    "print(\"concated list\",lst3)\n",
    "\n",
    "# delete the list\n",
    "del nested_lst[-1]\n",
    "print(\"deleting in nested_lst\",nested_lst)\n",
    "\n",
    "# clear --> clears the data in the list\n",
    "print(nested_lst.clear())\n"
   ]
  },
  {
   "cell_type": "code",
   "execution_count": 120,
   "id": "3e42c7eb-dd0f-4b75-9fd3-76d425eef4c6",
   "metadata": {},
   "outputs": [
    {
     "data": {
      "text/plain": [
       "[1, 4, 2, 3, 5]"
      ]
     },
     "execution_count": 120,
     "metadata": {},
     "output_type": "execute_result"
    }
   ],
   "source": [
    "# extend list\n",
    "prime_numbers = [2, 3, 5]\n",
    "numbers = [1, 4]\n",
    "numbers.extend(prime_numbers)\n",
    "\n",
    "numbers"
   ]
  },
  {
   "cell_type": "markdown",
   "id": "a7a1cd56-4434-45f4-8dca-ecb2db010562",
   "metadata": {},
   "source": [
    "## List Membership\n",
    " - in opertator and not in operator is used here"
   ]
  },
  {
   "cell_type": "code",
   "execution_count": 121,
   "id": "785dcb50-39d1-4122-b7ed-e40f39136f95",
   "metadata": {},
   "outputs": [
    {
     "data": {
      "text/plain": [
       "True"
      ]
     },
     "execution_count": 121,
     "metadata": {},
     "output_type": "execute_result"
    }
   ],
   "source": [
    "False not in numbers"
   ]
  },
  {
   "cell_type": "code",
   "execution_count": 122,
   "id": "1944cc76-52c4-4b8c-9b8b-fa86a46059e1",
   "metadata": {},
   "outputs": [
    {
     "data": {
      "text/plain": [
       "False"
      ]
     },
     "execution_count": 122,
     "metadata": {},
     "output_type": "execute_result"
    }
   ],
   "source": [
    "False in numbers"
   ]
  },
  {
   "cell_type": "code",
   "execution_count": 134,
   "id": "53ded031-97ab-4d30-a4be-d00d290d6a7a",
   "metadata": {},
   "outputs": [
    {
     "name": "stdout",
     "output_type": "stream",
     "text": [
      "[5, 3, 2, 4, 1]\n"
     ]
    }
   ],
   "source": [
    "lst6 = reversed(numbers)\n",
    "print(\"reverse using the revesed method\",list(lst6))"
   ]
  },
  {
   "cell_type": "code",
   "execution_count": 133,
   "id": "69c15fa3-9fe8-4917-88ab-ef21fff0e24b",
   "metadata": {},
   "outputs": [
    {
     "name": "stdout",
     "output_type": "stream",
     "text": [
      "reverse using colan [0, 50, 4, 3, 1]\n",
      "after using .reverse [1, 3, 4, 50, 0]\n"
     ]
    }
   ],
   "source": [
    "lst10 = [1,3,4,50,0]\n",
    "lst10 = lst10[::-1]\n",
    "print(\"reverse using colan\",lst10)\n",
    "\n",
    "lst10.reverse();\n",
    "print(\"after using .reverse\",lst10)"
   ]
  },
  {
   "cell_type": "markdown",
   "id": "1259d743-706e-442f-8ff9-5a7972be5298",
   "metadata": {},
   "source": [
    "## All / Any\n",
    " - All is like a And\n",
    " - Any is like a Or\n",
    " - All --> will not accept any false values -> To Return True then the list should have no False value\n",
    " - any --> should have one true value -> return as True"
   ]
  },
  {
   "cell_type": "code",
   "execution_count": 138,
   "id": "da5603b4-f339-4587-925b-a262d4e045cd",
   "metadata": {},
   "outputs": [
    {
     "name": "stdout",
     "output_type": "stream",
     "text": [
      "all in lst10 False\n",
      "all in lst2 True\n"
     ]
    }
   ],
   "source": [
    "# all\n",
    "print(\"all in lst10\",all(lst10))\n",
    "print(\"all in lst2\", all(lst2))"
   ]
  },
  {
   "cell_type": "code",
   "execution_count": 137,
   "id": "d9460f50-ff65-4ccf-a140-ecfb69afa7ec",
   "metadata": {},
   "outputs": [
    {
     "name": "stdout",
     "output_type": "stream",
     "text": [
      "any in lst10 True\n",
      "any in lst2 True\n"
     ]
    }
   ],
   "source": [
    "# any\n",
    "print(\"any in lst10\",any(lst10))\n",
    "print(\"any in lst2\",any(lst2))"
   ]
  },
  {
   "cell_type": "markdown",
   "id": "c7032645-43e5-4bce-9831-8c04ba154c1a",
   "metadata": {},
   "source": [
    "# 02-09-2023"
   ]
  },
  {
   "cell_type": "markdown",
   "id": "695e0a81-1105-49e1-bd7f-0d280231d909",
   "metadata": {},
   "source": [
    "## Tuples\n",
    " - Ordered -> has some orders, \n",
    " - It is Unchangable -> cannot change using indexing and no functions to make changes, does not allows the to change the value in the tuples using                              indexing or functions\n",
    " - allow duplicates -> allows to have the duplicates in the tuples.\n",
    " - accepts any data types in it like (int, float, list, tuples)."
   ]
  },
  {
   "cell_type": "code",
   "execution_count": 16,
   "id": "2e80fb66-d9b7-4b3f-bd38-1e452e878a4e",
   "metadata": {},
   "outputs": [
    {
     "name": "stdout",
     "output_type": "stream",
     "text": [
      "typeof <class 'tuple'>\n"
     ]
    }
   ],
   "source": [
    "# tuple creation\n",
    "t1 = (1,2,3,4,5,5)\n",
    "\n",
    "# anything inside the paranthesis is known as tuple.\n",
    "print(\"typeof\", type(t1))"
   ]
  },
  {
   "cell_type": "code",
   "execution_count": 17,
   "id": "efc86063-575f-4b16-b993-d74a74292393",
   "metadata": {},
   "outputs": [
    {
     "name": "stdout",
     "output_type": "stream",
     "text": [
      "(1, 2.4, (1+3j), ['data', 1, 2.3, (3-2j)], (10, 100.8))\n"
     ]
    }
   ],
   "source": [
    "# Multiple data types are accepted inside the tuples\n",
    "t2 = (1,2.4, 1+3j, [\"data\", 1, 2.3, 3-2j], (10, 100.8))\n",
    "print(t2)"
   ]
  },
  {
   "cell_type": "code",
   "execution_count": 22,
   "id": "dda28fe2-bd70-4523-ad65-aebad605fd31",
   "metadata": {},
   "outputs": [
    {
     "name": "stdout",
     "output_type": "stream",
     "text": [
      "get the value bassed in provided index value 4\n",
      "slicing the tuples ('a', 'b', 'c', 'd', 'e', 'f')\n",
      "slices based on the steps ('b', 'd', 'f', 'h')\n"
     ]
    }
   ],
   "source": [
    "# tuple indexing and slicing\n",
    "# indexing\n",
    "print(\"get the value bassed in provided index value\",t1[3])\n",
    "\n",
    "# slicing\n",
    "t3= ('a','b','c','d','e','f','g','h','i','j','a')\n",
    "print(\"slicing the tuples\",t3[0:6])\n",
    "\n",
    "# slice based on steps\n",
    "print(\"slices based on the steps\",t3[1:9:2])"
   ]
  },
  {
   "cell_type": "code",
   "execution_count": 23,
   "id": "4e9d46eb-3212-4be6-be80-da3cdb7455e7",
   "metadata": {},
   "outputs": [
    {
     "ename": "TypeError",
     "evalue": "'tuple' object does not support item assignment",
     "output_type": "error",
     "traceback": [
      "\u001b[1;31m---------------------------------------------------------------------------\u001b[0m",
      "\u001b[1;31mTypeError\u001b[0m                                 Traceback (most recent call last)",
      "Cell \u001b[1;32mIn[23], line 2\u001b[0m\n\u001b[0;32m      1\u001b[0m \u001b[38;5;66;03m# changes in tupes\u001b[39;00m\n\u001b[1;32m----> 2\u001b[0m \u001b[43mt3\u001b[49m\u001b[43m[\u001b[49m\u001b[38;5;241;43m3\u001b[39;49m\u001b[43m]\u001b[49m \u001b[38;5;241m=\u001b[39m \u001b[38;5;124m\"\u001b[39m\u001b[38;5;124mThree\u001b[39m\u001b[38;5;124m\"\u001b[39m \u001b[38;5;66;03m# ---> Throws error\u001b[39;00m\n",
      "\u001b[1;31mTypeError\u001b[0m: 'tuple' object does not support item assignment"
     ]
    }
   ],
   "source": [
    "# changes in tupes\n",
    "t3[3] = \"Three\" # ---> Throws error"
   ]
  },
  {
   "cell_type": "code",
   "execution_count": 24,
   "id": "388840ce-0bc8-4260-8db4-6476bea33cd3",
   "metadata": {},
   "outputs": [
    {
     "ename": "TypeError",
     "evalue": "'tuple' object doesn't support item deletion",
     "output_type": "error",
     "traceback": [
      "\u001b[1;31m---------------------------------------------------------------------------\u001b[0m",
      "\u001b[1;31mTypeError\u001b[0m                                 Traceback (most recent call last)",
      "Cell \u001b[1;32mIn[24], line 2\u001b[0m\n\u001b[0;32m      1\u001b[0m \u001b[38;5;66;03m# delete the tupels specific element\u001b[39;00m\n\u001b[1;32m----> 2\u001b[0m \u001b[38;5;28;01mdel\u001b[39;00m \u001b[43mt3\u001b[49m\u001b[43m[\u001b[49m\u001b[38;5;241;43m3\u001b[39;49m\u001b[43m]\u001b[49m \u001b[38;5;66;03m# cannot delete a single element in the tuple or update the single element in the tuple\u001b[39;00m\n",
      "\u001b[1;31mTypeError\u001b[0m: 'tuple' object doesn't support item deletion"
     ]
    }
   ],
   "source": [
    "# delete the tupels specific element\n",
    "del t3[3] # cannot delete a single element in the tuple or update the single element in the tuple"
   ]
  },
  {
   "cell_type": "code",
   "execution_count": 25,
   "id": "d75d7098-3fba-413d-8165-dec26111535b",
   "metadata": {},
   "outputs": [
    {
     "ename": "AttributeError",
     "evalue": "'tuple' object has no attribute 'clear'",
     "output_type": "error",
     "traceback": [
      "\u001b[1;31m---------------------------------------------------------------------------\u001b[0m",
      "\u001b[1;31mAttributeError\u001b[0m                            Traceback (most recent call last)",
      "Cell \u001b[1;32mIn[25], line 2\u001b[0m\n\u001b[0;32m      1\u001b[0m \u001b[38;5;66;03m# clear menthod in tuple\u001b[39;00m\n\u001b[1;32m----> 2\u001b[0m \u001b[38;5;28mprint\u001b[39m(\u001b[43mt3\u001b[49m\u001b[38;5;241;43m.\u001b[39;49m\u001b[43mclear\u001b[49m()) \u001b[38;5;66;03m# --> throws some errors\u001b[39;00m\n",
      "\u001b[1;31mAttributeError\u001b[0m: 'tuple' object has no attribute 'clear'"
     ]
    }
   ],
   "source": [
    "# clear menthod in tuple\n",
    "print(t3.clear()) # --> throws some errors"
   ]
  },
  {
   "cell_type": "code",
   "execution_count": 26,
   "id": "5c0b641e-b5a3-4945-8781-9d8f4d855f84",
   "metadata": {},
   "outputs": [
    {
     "ename": "NameError",
     "evalue": "name 't3' is not defined",
     "output_type": "error",
     "traceback": [
      "\u001b[1;31m---------------------------------------------------------------------------\u001b[0m",
      "\u001b[1;31mNameError\u001b[0m                                 Traceback (most recent call last)",
      "Cell \u001b[1;32mIn[26], line 3\u001b[0m\n\u001b[0;32m      1\u001b[0m \u001b[38;5;66;03m# deleting the enitre tuple\u001b[39;00m\n\u001b[0;32m      2\u001b[0m \u001b[38;5;28;01mdel\u001b[39;00m t3\n\u001b[1;32m----> 3\u001b[0m \u001b[38;5;28mprint\u001b[39m(\u001b[43mt3\u001b[49m) \u001b[38;5;66;03m# -> thows errors like the elemnet is undefined / not defined\u001b[39;00m\n",
      "\u001b[1;31mNameError\u001b[0m: name 't3' is not defined"
     ]
    }
   ],
   "source": [
    "# deleting the enitre tuple\n",
    "del t3\n",
    "print(t3) # -> thows errors like the elemnet is undefined / not defined"
   ]
  },
  {
   "cell_type": "markdown",
   "id": "993dc4c7-9c41-483e-aa1f-ed9d6dbfbed6",
   "metadata": {},
   "source": [
    "## Tuple functions\n",
    " - count, index\n",
    " - sort"
   ]
  },
  {
   "cell_type": "code",
   "execution_count": 29,
   "id": "90e71cb2-d3a5-4d1e-8357-09c5aeec807a",
   "metadata": {},
   "outputs": [
    {
     "name": "stdout",
     "output_type": "stream",
     "text": [
      "counts the provided element in tuple 1\n",
      "index of the tuple  4\n"
     ]
    }
   ],
   "source": [
    "# count in tuple\n",
    "print(\"counts the provided element in tuple\",t1.count(5))\n",
    "\n",
    "# index -> shows the first instance of the specified value\n",
    "print(\"index of the tuple \",t1.index(5))"
   ]
  },
  {
   "cell_type": "code",
   "execution_count": 36,
   "id": "9966d509-626c-461e-8fcf-8b2117e3c100",
   "metadata": {},
   "outputs": [
    {
     "name": "stdout",
     "output_type": "stream",
     "text": [
      "Asscending sort the tuple [1.5, 30, 100, 2000]\n",
      "Descending sort in tuple [2000, 100, 30, 1.5]\n"
     ]
    }
   ],
   "source": [
    "# sorting in tuple\n",
    "# - By default the sorted gives asscending order\n",
    "# possible to sort if integer and float in the tuple.\n",
    "\n",
    "t4 = (100, 30, 2000, 1.5)\n",
    "print(\"Asscending sort the tuple\", sorted(t4)) # -> sorted(t4, reverse=False) -> also returns the ascending order of tuple/list\n",
    "\n",
    "print(\"Descending sort in tuple\", sorted(t4, reverse=True))"
   ]
  },
  {
   "cell_type": "markdown",
   "id": "f6064816-df21-4ecb-85ff-c2b0401f23cf",
   "metadata": {},
   "source": [
    "## Membersip in Tuple \n",
    " - in,\n",
    " - not in"
   ]
  },
  {
   "cell_type": "code",
   "execution_count": 37,
   "id": "2c72f152-a64c-4654-9232-980611b32f6b",
   "metadata": {},
   "outputs": [
    {
     "name": "stdout",
     "output_type": "stream",
     "text": [
      "(1, 2.4, (1+3j), ['data', 1, 2.3, (3-2j)], (10, 100.8)) is the given tuple\n",
      "in operator True\n"
     ]
    }
   ],
   "source": [
    "# returns boolean value after checking the value is if avalible or not\n",
    "print(t2, \"is the given tuple\")\n",
    "print(\"in operator\",2.4 in t2)"
   ]
  },
  {
   "cell_type": "code",
   "execution_count": 38,
   "id": "7f2fe9f0-f9f5-4b47-82b3-bc0614b88029",
   "metadata": {},
   "outputs": [
    {
     "data": {
      "text/plain": [
       "True"
      ]
     },
     "execution_count": 38,
     "metadata": {},
     "output_type": "execute_result"
    }
   ],
   "source": [
    "# vice versa of in oprator\n",
    "5 not in t2"
   ]
  },
  {
   "cell_type": "markdown",
   "id": "acd83b00-d02a-4fdf-9768-27779dfe912a",
   "metadata": {},
   "source": [
    "## Set\n",
    " - cannot crete like list/tuple/dict\n",
    " - empty curly braces are considered as set\n",
    " - Anything inside the curley breaces will be considered as set other than the key value pairs.\n",
    " - It cannot update the value with indexing, but with the help of built in funtions is possible\n",
    " - Since it is unorders the indexing and slicing is not possible.\n",
    " - Also doesn't allow any duplicates values"
   ]
  },
  {
   "cell_type": "code",
   "execution_count": 11,
   "id": "6e52c9e0-c26c-4e55-ab00-5f327b2fe75c",
   "metadata": {},
   "outputs": [
    {
     "name": "stdout",
     "output_type": "stream",
     "text": [
      "<class 'set'>\n"
     ]
    }
   ],
   "source": [
    "s1 = {}\n",
    "s2 = set(s1)\n",
    "print(type(s2))"
   ]
  },
  {
   "cell_type": "code",
   "execution_count": 12,
   "id": "06989c3d-164a-4c6b-a405-c5d42d118746",
   "metadata": {},
   "outputs": [
    {
     "name": "stdout",
     "output_type": "stream",
     "text": [
      "set s1 {(2, 'two', (1-3j)), 1, 2.3, 'one'}\n"
     ]
    }
   ],
   "source": [
    "# set creation and accepts multiple data types except list, sets, dictionaries\n",
    "s1 = {1,2.3, 'one', (2, \"two\", 1-3j)}\n",
    "print(\"set s1\", s1)"
   ]
  },
  {
   "cell_type": "code",
   "execution_count": 13,
   "id": "aa9ebbbf-db3e-42f6-92d9-089aa479de21",
   "metadata": {},
   "outputs": [
    {
     "ename": "TypeError",
     "evalue": "'set' object is not subscriptable",
     "output_type": "error",
     "traceback": [
      "\u001b[1;31m---------------------------------------------------------------------------\u001b[0m",
      "\u001b[1;31mTypeError\u001b[0m                                 Traceback (most recent call last)",
      "Cell \u001b[1;32mIn[13], line 2\u001b[0m\n\u001b[0;32m      1\u001b[0m \u001b[38;5;66;03m# indexing is not possible\u001b[39;00m\n\u001b[1;32m----> 2\u001b[0m \u001b[38;5;28mprint\u001b[39m(\u001b[38;5;124m\"\u001b[39m\u001b[38;5;124mindexing\u001b[39m\u001b[38;5;124m\"\u001b[39m,\u001b[43ms1\u001b[49m\u001b[43m[\u001b[49m\u001b[38;5;241;43m2\u001b[39;49m\u001b[43m]\u001b[49m)\n",
      "\u001b[1;31mTypeError\u001b[0m: 'set' object is not subscriptable"
     ]
    }
   ],
   "source": [
    "# indexing is not possible\n",
    "print(\"indexing\",s1[2])"
   ]
  },
  {
   "cell_type": "code",
   "execution_count": 14,
   "id": "fbb70cd5-b583-4b21-b55d-bdbab96bac2d",
   "metadata": {},
   "outputs": [
    {
     "name": "stdout",
     "output_type": "stream",
     "text": [
      "After adding value {1, 2.3, '2', (2, 'two', (1-3j)), 'one'}\n"
     ]
    }
   ],
   "source": [
    "# add and remove items in set\n",
    "\n",
    "# Adding in set .add() is used to add single element\n",
    "s1.add('2')\n",
    "print(\"After adding value\",s1)"
   ]
  },
  {
   "cell_type": "code",
   "execution_count": 15,
   "id": "1c70c121-b85c-438d-95fa-6d77065b14ae",
   "metadata": {},
   "outputs": [
    {
     "name": "stdout",
     "output_type": "stream",
     "text": [
      "Before updating set {1, 2.3, '2', (2, 'two', (1-3j)), 'one'}\n",
      "After updating set {1, 2.3, '2', (2, 'two', (1-3j)), 'Hello', 'one', 'world'}\n"
     ]
    }
   ],
   "source": [
    "# .update(...) can be used to add multiple values in the set\n",
    "# since set is unordered the developer cannot specifed the place where value to be added\n",
    "print(\"Before updating set\", s1)\n",
    "s2 = {\"Hello\", \"world\"}\n",
    "s1.update(s2)\n",
    "print(\"After updating set\", s1)"
   ]
  },
  {
   "cell_type": "code",
   "execution_count": 16,
   "id": "15788e14-cfbf-4fa2-bd44-0c3a378bd016",
   "metadata": {},
   "outputs": [
    {
     "name": "stdout",
     "output_type": "stream",
     "text": [
      "After updaing new values {1, 2.3, '2', 'AI', (2, 'two', (1-3j)), 'Hello', 'one', 'world', 'python'}\n"
     ]
    }
   ],
   "source": [
    "s1.update({\"python\", \"AI\"})\n",
    "print(\"After updaing new values\", s1)"
   ]
  },
  {
   "cell_type": "code",
   "execution_count": 17,
   "id": "3f6d1ec3-feae-46f4-bf01-86126953128f",
   "metadata": {},
   "outputs": [
    {
     "name": "stdout",
     "output_type": "stream",
     "text": [
      "update with compplex data None\n"
     ]
    }
   ],
   "source": [
    "# udpting the \n",
    "print(\"update with compplex data\",s1.update({7-6j,\"Hello\"}))"
   ]
  },
  {
   "cell_type": "code",
   "execution_count": 18,
   "id": "fb1cb5cb-97d6-4228-8c18-1c9a62755ef7",
   "metadata": {},
   "outputs": [
    {
     "name": "stdout",
     "output_type": "stream",
     "text": [
      "After removing the data {1, '2', 'AI', (2, 'two', (1-3j)), 'Hello', 'one', (7-6j), 'world', 'python'}\n"
     ]
    }
   ],
   "source": [
    "## remove and discard\n",
    "# remove\n",
    "s1.remove(2.3)\n",
    "print(\"After removing the data\", s1)"
   ]
  },
  {
   "cell_type": "code",
   "execution_count": 20,
   "id": "e8aae251-2a7c-4e39-a29d-dda04b0979a0",
   "metadata": {},
   "outputs": [
    {
     "name": "stdout",
     "output_type": "stream",
     "text": [
      "After discarding tuple {'2', 'AI', (2, 'two', (1-3j)), 'Hello', 'one', (7-6j), 'world', 'python'}\n"
     ]
    }
   ],
   "source": [
    "# discard\n",
    "s1.discard(1)\n",
    "print(\"After discarding tuple\", s1)"
   ]
  },
  {
   "cell_type": "code",
   "execution_count": 21,
   "id": "7a71402c-f585-47d4-af2b-472a5afd8346",
   "metadata": {},
   "outputs": [
    {
     "name": "stdout",
     "output_type": "stream",
     "text": [
      "After clearing the set set()\n"
     ]
    }
   ],
   "source": [
    "# clear --> clears data in the set\n",
    "s1.clear()\n",
    "print(\"After clearing the set\", s1)"
   ]
  },
  {
   "cell_type": "code",
   "execution_count": 22,
   "id": "2d8a6ede-5f18-47b8-ad29-ee17f3aea8df",
   "metadata": {},
   "outputs": [
    {
     "ename": "NameError",
     "evalue": "name 's1' is not defined",
     "output_type": "error",
     "traceback": [
      "\u001b[1;31m---------------------------------------------------------------------------\u001b[0m",
      "\u001b[1;31mNameError\u001b[0m                                 Traceback (most recent call last)",
      "Cell \u001b[1;32mIn[22], line 3\u001b[0m\n\u001b[0;32m      1\u001b[0m \u001b[38;5;66;03m# deleting the set -> after deleting shows not defined error\u001b[39;00m\n\u001b[0;32m      2\u001b[0m \u001b[38;5;28;01mdel\u001b[39;00m s1\n\u001b[1;32m----> 3\u001b[0m \u001b[38;5;28mprint\u001b[39m(\u001b[38;5;124m\"\u001b[39m\u001b[38;5;124mAfter deleting\u001b[39m\u001b[38;5;124m\"\u001b[39m, \u001b[43ms1\u001b[49m)\n",
      "\u001b[1;31mNameError\u001b[0m: name 's1' is not defined"
     ]
    }
   ],
   "source": [
    "# deleting the set -> after deleting shows not defined error\n",
    "del s1\n",
    "print(\"After deleting\", s1)"
   ]
  },
  {
   "cell_type": "code",
   "execution_count": 25,
   "id": "e9c7a5a9-69fe-4b65-84a7-be021b7487d2",
   "metadata": {},
   "outputs": [
    {
     "name": "stdout",
     "output_type": "stream",
     "text": [
      "True in oprator\n",
      "False not in oprator\n"
     ]
    }
   ],
   "source": [
    "s2 = {1, 2.4, 'add', True}\n",
    "\n",
    "# Membersip\n",
    "print(1 in s2, \"in oprator\")\n",
    "print(2.4 not in s2, \"not in oprator\")"
   ]
  },
  {
   "cell_type": "markdown",
   "id": "e3b24ce6-c74a-41a2-bf46-711fd695ddc4",
   "metadata": {},
   "source": [
    "# Dictionary\n",
    " - its is a type of key: value pair formats\n",
    " - its ordered, changeable and duplicates are not allowed\n",
    " - key must be in strings or numbers and where as the value are of any datatype\n",
    " - key and value are seperated by colon"
   ]
  },
  {
   "cell_type": "code",
   "execution_count": 26,
   "id": "b2be41a8-cb9b-4ddf-a9b2-a5e71b392bbd",
   "metadata": {},
   "outputs": [
    {
     "name": "stdout",
     "output_type": "stream",
     "text": [
      "type of d1 <class 'dict'>\n"
     ]
    }
   ],
   "source": [
    "# dictonary creation\n",
    "d1 = {}\n",
    "\n",
    "print(\"type of d1\",type(d1))"
   ]
  },
  {
   "cell_type": "code",
   "execution_count": 34,
   "id": "3b5c3068-afae-4ce5-9c5a-bb7e08cbabcc",
   "metadata": {},
   "outputs": [
    {
     "name": "stdout",
     "output_type": "stream",
     "text": [
      "dictionary {'num': [1, 2, 3], 1: 100, 10: 10.3, 'c': True, 't': (10, True, (1-2j)), 'd': {'a': 10, 2: False}}\n"
     ]
    }
   ],
   "source": [
    "d1 = {\n",
    "    \"num\": [1,2,3],\n",
    "    1: 100,\n",
    "    10: 10.3,\n",
    "    'c': True,\n",
    "    't': (10, True, 1-2j),\n",
    "    'd': { 'a': 10, 2: False }\n",
    "}\n",
    "print(\"dictionary\",d1)"
   ]
  },
  {
   "cell_type": "code",
   "execution_count": 35,
   "id": "3cb3cbfa-0ed6-406a-8f3e-b61be8f044ac",
   "metadata": {},
   "outputs": [
    {
     "name": "stdout",
     "output_type": "stream",
     "text": [
      "value of key 10 10.3\n",
      "keys of d1 dict_keys(['num', 1, 10, 'c', 't', 'd'])\n",
      "values of the d1 dict_values([[1, 2, 3], 100, 10.3, True, (10, True, (1-2j)), {'a': 10, 2: False}])\n",
      "keys and values of the d1 dict_items([('num', [1, 2, 3]), (1, 100), (10, 10.3), ('c', True), ('t', (10, True, (1-2j))), ('d', {'a': 10, 2: False})])\n"
     ]
    }
   ],
   "source": [
    "# get the specific key value from the dictonary\n",
    "print(\"value of key 10\", d1[10])\n",
    "\n",
    "# display the keys of the dictionary\n",
    "print(\"keys of d1\", d1.keys())\n",
    "\n",
    "# display the values of the dictionary\n",
    "print(\"values of the d1\", d1.values())\n",
    "\n",
    "# display the both key and values\n",
    "print(\"keys and values of the d1\", d1.items())"
   ]
  },
  {
   "cell_type": "code",
   "execution_count": 41,
   "id": "7c6d8406-134f-4d24-86ea-c6bae6728160",
   "metadata": {},
   "outputs": [
    {
     "name": "stdout",
     "output_type": "stream",
     "text": [
      "index value from dictionary False\n",
      "prints the index of the key 5\n"
     ]
    }
   ],
   "source": [
    "# indexing\n",
    "\n",
    "# indexing for num\n",
    "print(\"index value from dictionary\", d1['d'][2])\n",
    "\n",
    "index = list(d1.keys()).index('d')\n",
    "print('prints the index of the key',index)"
   ]
  },
  {
   "cell_type": "code",
   "execution_count": 42,
   "id": "152e1ee0-fd37-4f50-8e93-7c91f78bd69e",
   "metadata": {},
   "outputs": [
    {
     "ename": "TypeError",
     "evalue": "unhashable type: 'slice'",
     "output_type": "error",
     "traceback": [
      "\u001b[1;31m---------------------------------------------------------------------------\u001b[0m",
      "\u001b[1;31mTypeError\u001b[0m                                 Traceback (most recent call last)",
      "Cell \u001b[1;32mIn[42], line 3\u001b[0m\n\u001b[0;32m      1\u001b[0m \u001b[38;5;66;03m# slicing is not possible\u001b[39;00m\n\u001b[1;32m----> 3\u001b[0m \u001b[38;5;28mprint\u001b[39m(\u001b[38;5;124m\"\u001b[39m\u001b[38;5;124mslicing\u001b[39m\u001b[38;5;124m\"\u001b[39m, \u001b[43md1\u001b[49m\u001b[43m[\u001b[49m\u001b[38;5;124;43m'\u001b[39;49m\u001b[38;5;124;43mnum\u001b[39;49m\u001b[38;5;124;43m'\u001b[39;49m\u001b[43m:\u001b[49m\u001b[38;5;124;43m'\u001b[39;49m\u001b[38;5;124;43mc\u001b[39;49m\u001b[38;5;124;43m'\u001b[39;49m\u001b[43m]\u001b[49m) \u001b[38;5;66;03m# --> thows error\u001b[39;00m\n",
      "\u001b[1;31mTypeError\u001b[0m: unhashable type: 'slice'"
     ]
    }
   ],
   "source": [
    "# slicing is not possible\n",
    "\n",
    "print(\"slicing\", d1['num':'c']) # --> thows error"
   ]
  },
  {
   "cell_type": "code",
   "execution_count": 9,
   "id": "50866997-5ff9-435e-97c8-61a2f6b323e1",
   "metadata": {},
   "outputs": [
    {
     "ename": "NameError",
     "evalue": "name 'd1' is not defined",
     "output_type": "error",
     "traceback": [
      "\u001b[1;31m---------------------------------------------------------------------------\u001b[0m",
      "\u001b[1;31mNameError\u001b[0m                                 Traceback (most recent call last)",
      "Cell \u001b[1;32mIn[9], line 4\u001b[0m\n\u001b[0;32m      1\u001b[0m \u001b[38;5;66;03m# add, update an delete in dictionary\u001b[39;00m\n\u001b[0;32m      2\u001b[0m \n\u001b[0;32m      3\u001b[0m \u001b[38;5;66;03m# add key value in dictionary\u001b[39;00m\n\u001b[1;32m----> 4\u001b[0m \u001b[43md1\u001b[49m[\u001b[38;5;124m'\u001b[39m\u001b[38;5;124mnew\u001b[39m\u001b[38;5;124m'\u001b[39m]\u001b[38;5;241m=\u001b[39m\u001b[38;5;124m\"\u001b[39m\u001b[38;5;124mdata\u001b[39m\u001b[38;5;124m\"\u001b[39m\n\u001b[0;32m      5\u001b[0m \u001b[38;5;28mprint\u001b[39m(\u001b[38;5;124m\"\u001b[39m\u001b[38;5;124mAfter adding\u001b[39m\u001b[38;5;124m\"\u001b[39m, d1)\n\u001b[0;32m      7\u001b[0m \u001b[38;5;66;03m# update the dictionary\u001b[39;00m\n",
      "\u001b[1;31mNameError\u001b[0m: name 'd1' is not defined"
     ]
    }
   ],
   "source": [
    "# add, update an delete in dictionary\n",
    "\n",
    "# add key value in dictionary\n",
    "d1['new']=\"data\"\n",
    "print(\"After adding\", d1)\n",
    "\n",
    "# update the dictionary\n",
    "d1['c'] = False\n",
    "print(\"after updating the value of key c\", d1)\n",
    "\n",
    "# pop in dictionary\n",
    "d1.pop('new')\n",
    "print(\"after pop in dictionary\", d1)\n",
    "\n",
    "# popItem() --> randomly delet any one value\n",
    "print(\"after popitem is used\", d1.popitem())\n",
    "\n",
    "# clear the items in dictionary\n",
    "d1.clear()\n",
    "print(\"After clearing\", d1)"
   ]
  },
  {
   "cell_type": "code",
   "execution_count": 10,
   "id": "e84cac2b-817a-4163-b47e-8afbaa266f01",
   "metadata": {},
   "outputs": [
    {
     "ename": "NameError",
     "evalue": "name 'd1' is not defined",
     "output_type": "error",
     "traceback": [
      "\u001b[1;31m---------------------------------------------------------------------------\u001b[0m",
      "\u001b[1;31mNameError\u001b[0m                                 Traceback (most recent call last)",
      "Cell \u001b[1;32mIn[10], line 3\u001b[0m\n\u001b[0;32m      1\u001b[0m \u001b[38;5;66;03m# deleting the dictionary\u001b[39;00m\n\u001b[1;32m----> 3\u001b[0m \u001b[38;5;28;01mdel\u001b[39;00m \u001b[43md1\u001b[49m\n\u001b[0;32m      4\u001b[0m \u001b[38;5;28mprint\u001b[39m(\u001b[38;5;124m\"\u001b[39m\u001b[38;5;124mAfter deleting the dictionary\u001b[39m\u001b[38;5;124m\"\u001b[39m, d1) \u001b[38;5;66;03m# --> throws error after deleting as not defined \u001b[39;00m\n",
      "\u001b[1;31mNameError\u001b[0m: name 'd1' is not defined"
     ]
    }
   ],
   "source": [
    "# deleting the dictionary\n",
    "\n",
    "del d1\n",
    "print(\"After deleting the dictionary\", d1) # --> throws error after deleting as not defined "
   ]
  },
  {
   "cell_type": "markdown",
   "id": "c92de216-078f-45bb-9650-336c25a71b8a",
   "metadata": {},
   "source": [
    "# While loop\n",
    " - Entry check loop\n",
    " - run the loop until the condition fails\n",
    " - check the condition fails for every the loop starts\n",
    " - At the we should have the incrementation"
   ]
  },
  {
   "cell_type": "code",
   "execution_count": 11,
   "id": "da0dca22-52f0-4a61-8753-c56c2356f678",
   "metadata": {},
   "outputs": [
    {
     "name": "stdout",
     "output_type": "stream",
     "text": [
      "1 is the value\n",
      "2 is the value\n",
      "3 is the value\n",
      "4 is the value\n",
      "5 is the value\n",
      "6 is the value\n"
     ]
    }
   ],
   "source": [
    "i=1\n",
    "while i <= 6: \n",
    "    print(i,\"is the value\")\n",
    "    i+=1"
   ]
  },
  {
   "cell_type": "code",
   "execution_count": 12,
   "id": "54155049-6a97-4638-b66a-1e0d76caa63c",
   "metadata": {},
   "outputs": [
    {
     "name": "stdout",
     "output_type": "stream",
     "text": [
      "1 is the value\n",
      "2 is the value\n",
      "4 is the value\n",
      "5 is the value\n",
      "6 is the value\n"
     ]
    }
   ],
   "source": [
    "# continue if the condition is stisfied then it skips the next statement\n",
    "i=1\n",
    "while i <= 6: \n",
    "    if i == 3:\n",
    "        i += 1\n",
    "        continue\n",
    "    print(i,\"is the value\")\n",
    "    i+=1"
   ]
  },
  {
   "cell_type": "code",
   "execution_count": 13,
   "id": "8e44cd6e-8883-4a19-8cab-8a010d544fa4",
   "metadata": {},
   "outputs": [
    {
     "name": "stdout",
     "output_type": "stream",
     "text": [
      "1 is the value\n",
      "2 is the value\n"
     ]
    }
   ],
   "source": [
    "# break if the condition is stisfied then the loop will be terminated\n",
    "i = 1\n",
    "while i <= 6: \n",
    "    if i == 3:\n",
    "        i += 1\n",
    "        break\n",
    "    print(i,\"is the value\")\n",
    "    i+=1"
   ]
  },
  {
   "cell_type": "code",
   "execution_count": 14,
   "id": "2983fc8f-c05c-4f30-a1c9-61eaeff929c6",
   "metadata": {},
   "outputs": [],
   "source": [
    "# pass -> avoids the error\n",
    "# i = 1\n",
    "# while i <= 6:\n",
    "#     pass"
   ]
  },
  {
   "cell_type": "code",
   "execution_count": 15,
   "id": "93841bf7-87b7-4ea0-90c0-a8d2bb632f30",
   "metadata": {},
   "outputs": [
    {
     "name": "stdout",
     "output_type": "stream",
     "text": [
      "2 even value\n",
      "4 even value\n",
      "6 even value\n",
      "8 even value\n",
      "10 even value\n"
     ]
    }
   ],
   "source": [
    "# even numbers\n",
    "i=1\n",
    "while i<= 10:\n",
    "    if i % 2 == 0:\n",
    "        print(i, \"even value\")\n",
    "    i+=1"
   ]
  },
  {
   "cell_type": "code",
   "execution_count": 16,
   "id": "2a63da6d-4949-4840-8b0b-b82430b65b5c",
   "metadata": {},
   "outputs": [
    {
     "name": "stdout",
     "output_type": "stream",
     "text": [
      "1 odd value\n",
      "3 odd value\n",
      "5 odd value\n",
      "7 odd value\n",
      "9 odd value\n"
     ]
    }
   ],
   "source": [
    "# odd numbers\n",
    "i=1\n",
    "while i<= 10:\n",
    "    if i % 2 != 0:\n",
    "        print(i, \"odd value\")\n",
    "    i+=1"
   ]
  },
  {
   "cell_type": "code",
   "execution_count": 35,
   "id": "bc85b021-7bd2-4a91-879c-2714851e7f9f",
   "metadata": {},
   "outputs": [
    {
     "data": {
      "text/plain": [
       "'bangalore'"
      ]
     },
     "execution_count": 35,
     "metadata": {},
     "output_type": "execute_result"
    }
   ],
   "source": [
    "# task -> take out banglore\n",
    "d2 = [0,1,2,3, [8,{5: [67, 89, 90]}, {\"area\":\"kudlu\",\"city\":\"bangalore\"}]]\n",
    "d2[4][2]['city']"
   ]
  },
  {
   "cell_type": "code",
   "execution_count": 2,
   "id": "9c393061-9256-45a9-82a2-b141cb24a448",
   "metadata": {},
   "outputs": [
    {
     "name": "stdout",
     "output_type": "stream",
     "text": [
      "value is 10\n",
      "value is 20\n",
      "value is 30\n",
      "value is 40\n",
      "value is 50\n",
      "value is 60\n",
      "value is 70\n",
      "value is 80\n",
      "value is 90\n",
      "value is 100\n"
     ]
    }
   ],
   "source": [
    "# task\n",
    "i = 1\n",
    "while i <= 10:\n",
    "    print(\"value is\", i * 10)\n",
    "    i+=1"
   ]
  },
  {
   "cell_type": "code",
   "execution_count": null,
   "id": "1fe1b72a-5ca1-4b3f-a691-6ef5203af897",
   "metadata": {},
   "outputs": [],
   "source": [
    "# https://docs.python.org/3/library/stdtypes.html#set"
   ]
  },
  {
   "cell_type": "markdown",
   "id": "78f4d374-fe7e-42c8-a53e-91a2271eeadf",
   "metadata": {},
   "source": [
    "## for loop\n",
    "    - For loop is used to iterate the elements in the iteratable object and perform the action on the each elements and perform same actions on each elemnts\n",
    "    - iteratable objets are like - list, tuple, set and dictionary.\n",
    "    - iterating is nothing but accessing the each elements in the list or tuple or set or dictionary"
   ]
  },
  {
   "cell_type": "code",
   "execution_count": 2,
   "id": "b80925f6-1f9b-499f-9724-089905001d4b",
   "metadata": {},
   "outputs": [
    {
     "name": "stdout",
     "output_type": "stream",
     "text": [
      "element value 1\n",
      "element value 2\n",
      "element value 3\n",
      "element value 4\n",
      "element value 5\n"
     ]
    }
   ],
   "source": [
    "# print the value of the list using for loop\n",
    "a=[1,2,3,4,5]\n",
    "for i in a:\n",
    "    print(\"element value\", i)"
   ]
  },
  {
   "cell_type": "code",
   "execution_count": 3,
   "id": "2a6346ff-6509-4ceb-9c51-7da8e9f0965e",
   "metadata": {},
   "outputs": [
    {
     "name": "stdout",
     "output_type": "stream",
     "text": [
      "chennai chennai \n",
      "bangalore bangalore \n",
      "pune pune \n"
     ]
    }
   ],
   "source": [
    "# print the every elemnts n times using for loop\n",
    "city_lst = ['chennai', 'bangalore', 'pune']\n",
    "for city in city_lst:\n",
    "    city = city + ' '\n",
    "    print(city*2, end=\"\\n\")"
   ]
  },
  {
   "cell_type": "code",
   "execution_count": 8,
   "id": "23c8ad96-e04e-46f7-8b3c-e994d1459ace",
   "metadata": {},
   "outputs": [
    {
     "name": "stdout",
     "output_type": "stream",
     "text": [
      "area\n",
      "city\n"
     ]
    }
   ],
   "source": [
    "# print the keys from dictionary using for loop\n",
    "d = {\"area\":\"kudlu\",\"city\":\"bangalore\"}\n",
    "for key in d.keys():\n",
    "    print(key)"
   ]
  },
  {
   "cell_type": "code",
   "execution_count": 9,
   "id": "e471084d-567f-49ae-9a9d-e74599f5d232",
   "metadata": {},
   "outputs": [
    {
     "name": "stdout",
     "output_type": "stream",
     "text": [
      "kudlu\n",
      "bangalore\n"
     ]
    }
   ],
   "source": [
    "# print the values from dictionary using for loop\n",
    "d = {\"area\":\"kudlu\",\"city\":\"bangalore\"}\n",
    "for value in d.values():\n",
    "    print(value)"
   ]
  },
  {
   "cell_type": "code",
   "execution_count": 12,
   "id": "2e114594-a037-4f9b-afbf-6d326efce009",
   "metadata": {},
   "outputs": [
    {
     "name": "stdout",
     "output_type": "stream",
     "text": [
      "key is  kudlu value is area\n",
      "key is  bangalore value is city\n"
     ]
    }
   ],
   "source": [
    "# print the values and key from dictionary using for loop\n",
    "d = {\"area\":\"kudlu\",\"city\":\"bangalore\"}\n",
    "for value, key in d.items():\n",
    "    print(\"key is \", key, \"value is\", value)"
   ]
  },
  {
   "cell_type": "code",
   "execution_count": 13,
   "id": "dca5049d-96fb-4ffb-8389-f4f1184f07f0",
   "metadata": {},
   "outputs": [
    {
     "name": "stdout",
     "output_type": "stream",
     "text": [
      "key is  100 value is areaarea\n",
      "key is  20 value is citycity\n"
     ]
    }
   ],
   "source": [
    "d = {\"area\":100,\"city\":20}\n",
    "for value, key in d.items():\n",
    "    print(\"key is \", key, \"value is\", value*2)"
   ]
  },
  {
   "cell_type": "code",
   "execution_count": 15,
   "id": "be2c5e95-39fe-4263-ba7c-2ec8e2f7d8c1",
   "metadata": {},
   "outputs": [
    {
     "name": "stdout",
     "output_type": "stream",
     "text": [
      "Red apple\n",
      "Red Mango\n",
      "Red kiwi\n",
      "Green apple\n",
      "Green Mango\n",
      "Green kiwi\n",
      "Blue apple\n",
      "Blue Mango\n",
      "Blue kiwi\n"
     ]
    }
   ],
   "source": [
    "# multiple for loop for multiple list\n",
    "lst11 = ['Red', 'Green', 'Blue']\n",
    "lst12 = ['apple', 'Mango', 'kiwi']\n",
    "\n",
    "for i in lst11:\n",
    "    for j in lst12:\n",
    "        print(i,j)"
   ]
  },
  {
   "cell_type": "code",
   "execution_count": 16,
   "id": "65dcc6a7-0dda-43fb-ba36-b656fc1af020",
   "metadata": {},
   "outputs": [
    {
     "name": "stdout",
     "output_type": "stream",
     "text": [
      "one 1\n",
      "one 2\n",
      "one 3\n",
      "Two 1\n",
      "Two 2\n",
      "Two 3\n",
      "Three 1\n",
      "Three 2\n",
      "Three 3\n"
     ]
    }
   ],
   "source": [
    "lst13 = ['one', 'Two', 'Three']\n",
    "lst14 = [1,2,3]\n",
    "\n",
    "for i in lst13:\n",
    "    for j in lst14:\n",
    "        print(i, j)"
   ]
  },
  {
   "cell_type": "markdown",
   "id": "a182410c-18e9-4bef-b286-1cbce2f97c7f",
   "metadata": {},
   "source": [
    "# Functions\n",
    "    - user defined funtions\n",
    "    - built-in functions\n",
    "    - Aggergate funtions -> lambda"
   ]
  },
  {
   "cell_type": "code",
   "execution_count": 23,
   "id": "26856536-1d5b-406e-8444-1e679c382820",
   "metadata": {},
   "outputs": [
    {
     "name": "stdout",
     "output_type": "stream",
     "text": [
      "0 is even\n",
      "2 is even\n",
      "4 is even\n",
      "6 is even\n",
      "8 is even\n",
      "None\n"
     ]
    }
   ],
   "source": [
    "# user defined functions to print event num from list\n",
    "def even_num(lst):\n",
    "    len1 = len(lst) - 1\n",
    "    for i in range(0, len1):\n",
    "        if lst[i+1] % 2 == 0:\n",
    "            print(i,\"is even\")\n",
    "            \n",
    "lst = [1,2,3,4,5,6,7,8,9,10]\n",
    "print(even_num(lst))"
   ]
  },
  {
   "cell_type": "code",
   "execution_count": 25,
   "id": "c9bc9b50-34d1-4d81-9d5d-ae51b9f56cf9",
   "metadata": {},
   "outputs": [
    {
     "name": "stdin",
     "output_type": "stream",
     "text": [
      "Enter a 10\n",
      "Enter b 20\n"
     ]
    },
    {
     "name": "stdout",
     "output_type": "stream",
     "text": [
      "30\n"
     ]
    }
   ],
   "source": [
    "def addValue(a, b):\n",
    "    print(a + b)\n",
    "\n",
    "a = int(input(\"Enter a\"))\n",
    "b = int(input(\"Enter b\"))\n",
    "addValue(a, b)"
   ]
  },
  {
   "cell_type": "code",
   "execution_count": 27,
   "id": "e93e8a0f-fa0f-407e-91c6-725712c9705e",
   "metadata": {},
   "outputs": [
    {
     "name": "stdin",
     "output_type": "stream",
     "text": [
      "Enter sides 10\n"
     ]
    },
    {
     "name": "stdout",
     "output_type": "stream",
     "text": [
      "40 is the perimeter\n"
     ]
    }
   ],
   "source": [
    "def perimerter(s):\n",
    "    res = 4 * s\n",
    "    return res\n",
    "s = int(input(\"Enter sides\"))\n",
    "value = perimerter(s)\n",
    "print(value, \"is the perimeter\")"
   ]
  },
  {
   "cell_type": "code",
   "execution_count": 40,
   "id": "221f3dd5-f93a-4e00-a279-bb07822bd7fe",
   "metadata": {},
   "outputs": [
    {
     "name": "stdout",
     "output_type": "stream",
     "text": [
      "cholocate is  silk\n"
     ]
    }
   ],
   "source": [
    "# (*) arbitary arguments\n",
    "def chocolate(*choco):\n",
    "    print(\"cholocate is \", choco[0])\n",
    "chocolate('silk', 'kitKat', 'Milky Bar')"
   ]
  },
  {
   "cell_type": "code",
   "execution_count": 44,
   "id": "62813d98-5e25-43f2-b4b7-9b34fa31f088",
   "metadata": {},
   "outputs": [
    {
     "name": "stdout",
     "output_type": "stream",
     "text": [
      "cholocate is silk\n"
     ]
    }
   ],
   "source": [
    "# keyword arguments syntax:key='value'\n",
    "def chocolate(choco1, choco2, choco3):\n",
    "    print(\"cholocate is\", choco1)\n",
    "chocolate(choco1='silk', choco2='kitKat', choco3='Milky Bar')"
   ]
  },
  {
   "cell_type": "code",
   "execution_count": 55,
   "id": "620ead4a-086d-4018-994d-706290910f8e",
   "metadata": {},
   "outputs": [
    {
     "name": "stdout",
     "output_type": "stream",
     "text": [
      "cholocate is silk\n"
     ]
    }
   ],
   "source": [
    "# (**) arbitary keyword arguments(**kwargs)\n",
    "def chocolate1(**choco):\n",
    "    print(\"cholocate is \" + choco['choco4'])\n",
    "chocolate1(choco4='silk', choco5='kitKat', choco6='Milky Bar')"
   ]
  },
  {
   "cell_type": "code",
   "execution_count": 56,
   "id": "1bb23148-77eb-4193-912b-ab71249f79d2",
   "metadata": {},
   "outputs": [
    {
     "name": "stdout",
     "output_type": "stream",
     "text": [
      "Chocolatem is silk\n"
     ]
    }
   ],
   "source": [
    "# default parameter value\n",
    "def chocolate2(choco=\"silk\"):\n",
    "    print('Chocolatem is', choco)\n",
    "chocolate2()"
   ]
  },
  {
   "cell_type": "code",
   "execution_count": 57,
   "id": "feaee9e8-5be1-4ab5-a439-9afe9c5408c5",
   "metadata": {},
   "outputs": [
    {
     "name": "stdout",
     "output_type": "stream",
     "text": [
      "\n"
     ]
    }
   ],
   "source": [
    "## No agrs and no return\n",
    "def NoArgsNoReturn():\n",
    "    print()\n",
    "NoArgsNoReturn();"
   ]
  },
  {
   "cell_type": "code",
   "execution_count": 58,
   "id": "704d55db-b9a6-4555-8983-a04259dc175f",
   "metadata": {},
   "outputs": [
    {
     "name": "stdout",
     "output_type": "stream",
     "text": [
      "Hello\n"
     ]
    }
   ],
   "source": [
    "## No Args with return value\n",
    "def NoArgswithReturnValue():\n",
    "    print(\"Hello\")\n",
    "NoArgswithReturnValue()"
   ]
  },
  {
   "cell_type": "code",
   "execution_count": 60,
   "id": "2d746f52-087a-4d2f-9d34-f0a6add647ca",
   "metadata": {},
   "outputs": [
    {
     "name": "stdout",
     "output_type": "stream",
     "text": [
      "\n"
     ]
    }
   ],
   "source": [
    "## with Args and No Return value\n",
    "def ArgsWithoutReturnVal(a):\n",
    "    print()\n",
    "ArgsWithoutReturnVal(a=10)"
   ]
  },
  {
   "cell_type": "code",
   "execution_count": 62,
   "id": "ef282d55-9df4-4e55-84b3-6cb37dc3453d",
   "metadata": {},
   "outputs": [
    {
     "name": "stdout",
     "output_type": "stream",
     "text": [
      "10\n"
     ]
    }
   ],
   "source": [
    "## with Args and with Return value\n",
    "def ArgsWithoutReturnVal(a):\n",
    "    return a\n",
    "res = ArgsWithoutReturnVal(a=10)\n",
    "print(res)"
   ]
  },
  {
   "cell_type": "markdown",
   "id": "dd358574-bb38-48a5-a467-4ae5faf74d84",
   "metadata": {},
   "source": [
    "# Doc Strings (__doc__)\n",
    "    - must be in the next to the function definition.\n",
    "    - doc strings nothing but the multiple comments.\n",
    "    - also explains about the function"
   ]
  },
  {
   "cell_type": "code",
   "execution_count": 66,
   "id": "e0b26e3b-6f72-4813-8eb5-83d9e796201f",
   "metadata": {},
   "outputs": [
    {
     "name": "stdout",
     "output_type": "stream",
     "text": [
      " This is returns the area of circle \n"
     ]
    }
   ],
   "source": [
    "## doc strings \n",
    "def area_of_circle(r):\n",
    "    ''' This is returns the area of circle '''\n",
    "    area = 3.14 * r ** 2\n",
    "    return area\n",
    "area_of_circle(4)\n",
    "print(area_of_circle.__doc__) # can be accesed like this line."
   ]
  },
  {
   "cell_type": "code",
   "execution_count": 67,
   "id": "daf52025-48b1-40fb-81fd-5d59b498650c",
   "metadata": {},
   "outputs": [],
   "source": [
    "# task \n",
    "# create a function to get the input and return the value is odd / even\n",
    "# create list of 10 odd / even values mingled seperate the odd values in one list and even in another list"
   ]
  },
  {
   "cell_type": "code",
   "execution_count": 3,
   "id": "6bf29f69-e5ac-44cb-8eb4-023b6e51e48c",
   "metadata": {},
   "outputs": [
    {
     "name": "stdin",
     "output_type": "stream",
     "text": [
      "enter val 2\n"
     ]
    },
    {
     "name": "stdout",
     "output_type": "stream",
     "text": [
      "even\n"
     ]
    }
   ],
   "source": [
    "# create a function to get the input and return the value is odd / even\n",
    "def oddoreven(val):\n",
    "    if val % 2 == 0:\n",
    "        return \"even\"\n",
    "    else:\n",
    "        return \"odd\"\n",
    "\n",
    "value = int(input(\"enter val\"))\n",
    "res = oddoreven(value)\n",
    "print(res)"
   ]
  },
  {
   "cell_type": "code",
   "execution_count": 80,
   "id": "2cf2e5f3-594e-497b-9578-ba79d6d6ccc7",
   "metadata": {},
   "outputs": [],
   "source": [
    "# create list of 10 odd / even values mingled seperate the odd values in one list and even in another list"
   ]
  },
  {
   "cell_type": "code",
   "execution_count": 4,
   "id": "e3ba29c4-2dfa-41a7-b8b0-2322749773ec",
   "metadata": {},
   "outputs": [
    {
     "name": "stdout",
     "output_type": "stream",
     "text": [
      "evenn list [2, 4, 6, 8, 10]\n",
      "odd list [1, 3, 5, 7, 9]\n"
     ]
    }
   ],
   "source": [
    "lst = [1,2,3,4,5,6,7,8,9,10]\n",
    "even = []\n",
    "odd=[]\n",
    "\n",
    "def find_even(lst):\n",
    "    for i in lst:\n",
    "        if i % 2 == 0:\n",
    "            even.append(i)\n",
    "    print(\"evenn list\", even)\n",
    "\n",
    "def find_odd(lst):\n",
    "    for i in lst:\n",
    "        if i % 2 != 0:\n",
    "            odd.append(i)\n",
    "    print(\"odd list\", odd)\n",
    "\n",
    "find_even(lst)\n",
    "find_odd(lst)"
   ]
  },
  {
   "cell_type": "markdown",
   "id": "ee4815f9-a8c5-48ec-8dfb-435b4b52a8f9",
   "metadata": {},
   "source": [
    "## lamda functions\n",
    " - comes under aggregate function\n",
    " - one line function with no function name\n",
    " - is maximum short period of time.\n",
    " - only for the simple calcuations"
   ]
  },
  {
   "cell_type": "code",
   "execution_count": 5,
   "id": "5346698f-a8f8-4679-bb9f-5f1e13ce1142",
   "metadata": {},
   "outputs": [],
   "source": [
    "# syntax: \n",
    "# variable = lambda args : Expression\n",
    "\n",
    "# it can have any number of args but should have only one expression"
   ]
  },
  {
   "cell_type": "code",
   "execution_count": 6,
   "id": "ac558b01-d0c7-40fd-8ce8-7a7f888bdd8c",
   "metadata": {},
   "outputs": [
    {
     "data": {
      "text/plain": [
       "15"
      ]
     },
     "execution_count": 6,
     "metadata": {},
     "output_type": "execute_result"
    }
   ],
   "source": [
    "val = lambda a,b : a + b\n",
    "val(10, 5)"
   ]
  },
  {
   "cell_type": "code",
   "execution_count": 8,
   "id": "9ea528e1-0f61-4566-9cb2-9ac75297c9ad",
   "metadata": {},
   "outputs": [
    {
     "data": {
      "text/plain": [
       "500"
      ]
     },
     "execution_count": 8,
     "metadata": {},
     "output_type": "execute_result"
    }
   ],
   "source": [
    "value = lambda a,b,c : a * b * c\n",
    "value(10, 5, 10)"
   ]
  },
  {
   "cell_type": "code",
   "execution_count": 14,
   "id": "84a2fd81-92d7-410b-8292-6775fbca16b7",
   "metadata": {},
   "outputs": [
    {
     "data": {
      "text/plain": [
       "80"
      ]
     },
     "execution_count": 14,
     "metadata": {},
     "output_type": "execute_result"
    }
   ],
   "source": [
    "res = lambda s : 4 * s\n",
    "res(20)"
   ]
  },
  {
   "cell_type": "markdown",
   "id": "2af6f41c-62bb-419e-9a8c-3500df4d847e",
   "metadata": {},
   "source": [
    "## Filters\n",
    "- used to filter out the required values from the iterable objects\n",
    "- condition based -> do the filter according to the condition\n",
    "    "
   ]
  },
  {
   "cell_type": "code",
   "execution_count": 21,
   "id": "104b01fa-5a04-478d-aec9-e18f9ea34146",
   "metadata": {},
   "outputs": [
    {
     "name": "stdout",
     "output_type": "stream",
     "text": [
      "[2, 4, 6, 8, 10]\n"
     ]
    }
   ],
   "source": [
    "lst = [1,2,3,4,5,6,7,8,9,10]\n",
    "\n",
    "# a function for even values\n",
    "def evennum(m):\n",
    "    if m % 2 == 0:\n",
    "        return m\n",
    "\n",
    "print(list(filter(evennum, lst)))"
   ]
  },
  {
   "cell_type": "code",
   "execution_count": 34,
   "id": "9eac7a7a-28ac-4001-9938-5df24ea04b14",
   "metadata": {},
   "outputs": [
    {
     "name": "stdout",
     "output_type": "stream",
     "text": [
      "even lst [2, 4, 6, 8, 10]\n",
      "odd lst [1, 3, 5, 7, 9]\n"
     ]
    }
   ],
   "source": [
    "# filter with the lambda\n",
    "values = lambda m: m % 2 == 0\n",
    "print(\"even lst\",list(filter(values, lst)))\n",
    "\n",
    "# implementstation in one line\n",
    "print(\"odd lst\", list(filter(lambda m: m % 2 != 0, lst)))"
   ]
  },
  {
   "cell_type": "markdown",
   "id": "ecc4acd3-f1c7-419f-8665-8ee94f712adc",
   "metadata": {},
   "source": [
    "## Map\n",
    " - Perfoem any mathematical calculation on the list of values or filtered values can go with map"
   ]
  },
  {
   "cell_type": "code",
   "execution_count": 35,
   "id": "758ef33a-5c65-4a62-a94a-329303433ba0",
   "metadata": {},
   "outputs": [
    {
     "name": "stdout",
     "output_type": "stream",
     "text": [
      "4\n"
     ]
    }
   ],
   "source": [
    "## Map function\n",
    "\n",
    "def double(p):\n",
    "    return 2 * p\n",
    "print(double(2))"
   ]
  },
  {
   "cell_type": "code",
   "execution_count": 36,
   "id": "f327b956-21a5-4ca2-8d97-155b4a1fdac2",
   "metadata": {},
   "outputs": [
    {
     "data": {
      "text/plain": [
       "[1, 2, 3, 4, 5, 6, 7, 8, 9, 10]"
      ]
     },
     "execution_count": 36,
     "metadata": {},
     "output_type": "execute_result"
    }
   ],
   "source": [
    "lst"
   ]
  },
  {
   "cell_type": "code",
   "execution_count": 37,
   "id": "9a87a94d-d92d-4d1e-ad3c-770eafa3d6d6",
   "metadata": {},
   "outputs": [
    {
     "name": "stdout",
     "output_type": "stream",
     "text": [
      "[2, 4, 6, 8, 10, 12, 14, 16, 18, 20]\n"
     ]
    }
   ],
   "source": [
    "print(list(map(double, lst)))"
   ]
  },
  {
   "cell_type": "code",
   "execution_count": 45,
   "id": "ba205c19-5539-4dfc-893d-9e6e3a987a18",
   "metadata": {},
   "outputs": [
    {
     "name": "stdout",
     "output_type": "stream",
     "text": [
      "3628800\n"
     ]
    }
   ],
   "source": [
    "from functools import reduce\n",
    "\n",
    "def reduce1(x, y):\n",
    "    return x * y\n",
    "\n",
    "print(reduce(reduce1, lst))"
   ]
  },
  {
   "cell_type": "markdown",
   "id": "c7ebc0c8-f5c7-4de9-93ab-fef5b9670f65",
   "metadata": {},
   "source": [
    "## Reduce\n",
    "- Reduces the multiple values into a single values"
   ]
  },
  {
   "cell_type": "code",
   "execution_count": 40,
   "id": "12d077ac-c96f-4ffe-9dbf-392fc35d9753",
   "metadata": {},
   "outputs": [
    {
     "name": "stdout",
     "output_type": "stream",
     "text": [
      "[2, 4, 6, 8, 10, 12, 14, 16, 18, 20]\n"
     ]
    }
   ],
   "source": [
    "# map using the lambda\n",
    "print(list(map(lambda a: a * 2, lst)))"
   ]
  },
  {
   "cell_type": "code",
   "execution_count": 48,
   "id": "c2b77e9f-e3d4-45d5-b2bd-219cac324fd9",
   "metadata": {},
   "outputs": [
    {
     "name": "stdout",
     "output_type": "stream",
     "text": [
      "55\n"
     ]
    }
   ],
   "source": [
    "# reduce using the lambda function\n",
    "print(reduce(lambda a, b: a + b, lst))"
   ]
  },
  {
   "cell_type": "code",
   "execution_count": 55,
   "id": "20979ead-80a4-480a-b48e-bd0b94cba00c",
   "metadata": {},
   "outputs": [
    {
     "name": "stdin",
     "output_type": "stream",
     "text": [
      "Enter a number:  0\n"
     ]
    },
    {
     "name": "stdout",
     "output_type": "stream",
     "text": [
      "The factorial of {n} is 1\n"
     ]
    }
   ],
   "source": [
    "num = int(input(\"Enter a number: \"))\n",
    "\n",
    "factorial = 1\n",
    "if num < 0:\n",
    "   print(\"No factorials\")\n",
    "elif num == 0:\n",
    "   print(\"The factorial of\", n ,\"is 1\")\n",
    "else:\n",
    "   for i in range(1,num + 1):\n",
    "       factorial = factorial*i\n",
    "   print(\"The factorial of\",num,\"is\",factorial)"
   ]
  },
  {
   "cell_type": "code",
   "execution_count": null,
   "id": "ad95ef25-e111-4651-90a8-81b6962865a2",
   "metadata": {},
   "outputs": [],
   "source": []
  }
 ],
 "metadata": {
  "kernelspec": {
   "display_name": "Python 3 (ipykernel)",
   "language": "python",
   "name": "python3"
  },
  "language_info": {
   "codemirror_mode": {
    "name": "ipython",
    "version": 3
   },
   "file_extension": ".py",
   "mimetype": "text/x-python",
   "name": "python",
   "nbconvert_exporter": "python",
   "pygments_lexer": "ipython3",
   "version": "3.11.0"
  }
 },
 "nbformat": 4,
 "nbformat_minor": 5
}
